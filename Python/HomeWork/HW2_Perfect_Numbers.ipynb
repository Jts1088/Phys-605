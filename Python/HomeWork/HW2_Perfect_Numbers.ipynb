{
 "cells": [
  {
   "cell_type": "markdown",
   "metadata": {},
   "source": [
    "# Homework 2: Perfect Numbers Solutions\n",
    "#### Author: Maurik Holtrop (2018)\n",
    "This was a challenger. The code I present here works reasonably well. It can probably go a little faster if tweaked.\n",
    "\n",
    "### Task: Proper Divisors\n",
    "We need these to check the perfect number code. A proper divisor is an integer that will divide a larger integer without remainder."
   ]
  },
  {
   "cell_type": "code",
   "execution_count": 1,
   "metadata": {
    "collapsed": true
   },
   "outputs": [],
   "source": [
    "import math\n",
    "import numpy as np\n",
    "\n",
    "def divisorList(N):\n",
    "    '''Quick divisor list creator. Returns a list of perfect devisor to input N'''\n",
    "    divs=[i for i in range(1,int(math.sqrt(N)+1)) if N%i==0 ]  # Only do up to sqrt(N)\n",
    "    divs+=reversed([ int(N/i) for i in divs] )                 # The rest are the N/i \n",
    "    return(divs)\n",
    "#\n",
    "# This implements the algorithm as a \"generator\" (same as range() in Python3 is a generator, or xrange() in P2)\n",
    "# It is pretty fast, but not faster than our simple list creator. For very large n, this one\n",
    "# would become interesting because it uses half the memory.\n",
    "def divisorGenerator(n):\n",
    "    '''This is needed to test directly from a perfect number, the brute force way.\n",
    "    This function returns a list of perfect divisors for a number n.\n",
    "    It is pretty fast, since it only brute force checks up to sqrt(n), and then lists the \n",
    "    complements. \n",
    "    Since this is a generator, it needs to be in a loop or a list()'''\n",
    "    large_divisors = []\n",
    "    for i in range(1, int(math.sqrt(n) + 1)):\n",
    "        if n % i == 0:\n",
    "            yield i # Return the i\n",
    "            if i*i != n:\n",
    "                large_divisors.append(int(n / i)) # Store the > sqrt(N) ones for later.\n",
    "    for divisor in reversed(large_divisors):\n",
    "        yield divisor"
   ]
  },
  {
   "cell_type": "markdown",
   "metadata": {},
   "source": [
    "**Always test your code!**"
   ]
  },
  {
   "cell_type": "code",
   "execution_count": 2,
   "metadata": {},
   "outputs": [
    {
     "name": "stdout",
     "output_type": "stream",
     "text": [
      "CPU times: user 318 µs, sys: 5 µs, total: 323 µs\n",
      "Wall time: 336 µs\n",
      "CPU times: user 348 µs, sys: 5 µs, total: 353 µs\n",
      "Wall time: 368 µs\n",
      "48 48\n",
      "Comparing lists:\n"
     ]
    }
   ],
   "source": [
    "N=12313420\n",
    "%time div1 = divisorList(N)\n",
    "%time div2 = list(divisorGenerator(N))\n",
    "print(len(div1),len(div2))\n",
    "print(\"Comparing lists:\")\n",
    "for i in range(len(div2)):\n",
    "    if div1[i]!=div2[i]:\n",
    "        print(\"Problem at i:\",i,div1[i],div2[i])\n",
    "\n",
    "               "
   ]
  },
  {
   "cell_type": "markdown",
   "metadata": {},
   "source": [
    "## Perfect numbers part 1\n",
    "Here we have a simple, straight forward perfect number finder, It is too slow for a 10^6 number, so forget doing 10^10 which is what we need for Google's number. It is still useful to check other algorithms against."
   ]
  },
  {
   "cell_type": "code",
   "execution_count": 3,
   "metadata": {
    "collapsed": true
   },
   "outputs": [],
   "source": [
    "def find_perfect_number(Max=1000000,Min=1):\n",
    "    '''This is the slow brute force method to find perfect numbers. It is OK up to about 10**5\n",
    "    but gets too slow for larger numbers.'''\n",
    "    for ntry in range(Min,Max):\n",
    "        pp=list(divisorGenerator(ntry))\n",
    "        s= np.sum(pp[0:-1])\n",
    "        if s == ntry:\n",
    "            print(\"Perfect number {} from \".format(ntry),pp[0:-1])\n"
   ]
  },
  {
   "cell_type": "code",
   "execution_count": 4,
   "metadata": {},
   "outputs": [
    {
     "name": "stdout",
     "output_type": "stream",
     "text": [
      "This will take a bit more than 2 seconds...\n",
      "Perfect number 6 from  [1, 2, 3]\n",
      "Perfect number 28 from  [1, 2, 4, 7, 14]\n",
      "Perfect number 496 from  [1, 2, 4, 8, 16, 31, 62, 124, 248]\n",
      "Perfect number 8128 from  [1, 2, 4, 8, 16, 32, 64, 127, 254, 508, 1016, 2032, 4064]\n",
      "CPU times: user 2.1 s, sys: 7.55 ms, total: 2.11 s\n",
      "Wall time: 2.11 s\n"
     ]
    }
   ],
   "source": [
    "print(\"This will take a bit more than 2 seconds...\")\n",
    "%time(find_perfect_number(100000))"
   ]
  },
  {
   "cell_type": "markdown",
   "metadata": {},
   "source": [
    "## Perfect numbers part 2: Euclids Method.\n",
    "Here is what Euclid stated, well, translated to English:\n",
    "> If as many numbers as we please beginning from a unit [1] be set out continuously in double proportion, \n",
    "> until the sum of all becomes a prime, and if the sum multiplied into the last make some number, the product \n",
    "> will be perfect.\n",
    "\n",
    "OK, so we go 1+2+4 = 7, which is a prime, so 4\\*7=28 is a perfect number.\n",
    "\n",
    "We can calcuate this quicker by realizing that 1+2+4 is equal to 2\\*\\*3-1, and 4 is 2\\*\\*2, so a perfect number is\n",
    "found as (2\\*\\*(N-1))\\*(2\\*\\*N -1), if (2\\*\\*N -1) is prime. Such primes are known as Mersenne primes. \n",
    "The largest currently known Mersenne prime is 2\\*\\*77232917 -1. If you want you *can* use Python to count the digits."
   ]
  },
  {
   "cell_type": "code",
   "execution_count": 5,
   "metadata": {},
   "outputs": [
    {
     "name": "stdout",
     "output_type": "stream",
     "text": [
      "23249425\n",
      "23249425\n"
     ]
    }
   ],
   "source": [
    "#xx=77232917\n",
    "xx=77232917\n",
    "NN=2**xx -1\n",
    "# print(\"Warning: This takes a long time to compute!!!\")\n",
    "# print(len(str(NN)))\n",
    "print(int(math.log10(NN))+1)\n",
    "print(int(xx*math.log10(2))+1)\n"
   ]
  },
  {
   "cell_type": "markdown",
   "metadata": {},
   "source": [
    "Here is the Euclids method function. It makes use of the fast Prime Sieve of HW2 part 2."
   ]
  },
  {
   "cell_type": "code",
   "execution_count": 11,
   "metadata": {
    "collapsed": true
   },
   "outputs": [],
   "source": [
    "def is_prime(n):\n",
    "    '''This is a simple prime number checker. Return true if n is a prime number.'''\n",
    "    if n < 2:\n",
    "        return(False)\n",
    "    if n==2:\n",
    "        return(True)\n",
    "    if n%2 == 0:\n",
    "        return(False)\n",
    "    else:\n",
    "        for x in range(3,int(n**0.5)+1,2):  # No need to test more than sqrt of n, turned integer, rounded up. Only odds\n",
    "            if n%x == 0:\n",
    "                return(False)\n",
    "    return(True)\n",
    "\n",
    "def primeSieve(sieveSize):\n",
    "    ''' Returns a list of prime numbers, up to sieveSize, calculated using\n",
    "    the Sieve of Eratosthenes algorithm. Not practical for very\n",
    "    large sieveSize (too slow, and too much memory). 2**24 takes about 2 seconds.\n",
    "    This version is more than twice the speed of the previous (in comments)''' \n",
    "    # The following line does the same as the 5 lines above. Note how it treats sieveSize odd and even.\n",
    "    sieve = [False,False,True,True]+[False,True]*(sieveSize//2 -2) + [False]*(sieveSize%2!=0)\n",
    "    # create the sieve\n",
    "    for i in range(3, int(math.sqrt(sieveSize)) + 1,2): # You only need to sieve every other up to sqrt(N)\n",
    "        if sieve[i] == True:                          # Only need to check numbers that still may be primes.\n",
    "#            for i in range(i*i,sieveSize,i):    # Mark every i-th value false, starting at i*i \n",
    "#                sieve[i]=False\n",
    "#  This trick uses \"slicing\" of the list to quickly set particular values to False\n",
    "            sieve[i*i::i]=[False]*((len(sieve)-i*i+i-1)//i) # len(sieve[i*i::i])\n",
    "# compile the list of primes and return\n",
    "    return [ i for i in range(sieveSize) if sieve[i]==True]  # This list comprehension version is faster.\n",
    "\n"
   ]
  },
  {
   "cell_type": "code",
   "execution_count": 12,
   "metadata": {},
   "outputs": [
    {
     "name": "stdout",
     "output_type": "stream",
     "text": [
      "2147483647\n",
      "True\n",
      "CPU times: user 3.35 ms, sys: 166 µs, total: 3.51 ms\n",
      "Wall time: 3.45 ms\n",
      "CPU times: user 118 ms, sys: 17.5 ms, total: 136 ms\n",
      "Wall time: 135 ms\n"
     ]
    }
   ],
   "source": [
    "test_prime=2**31-1\n",
    "print(test_prime)\n",
    "%time print(is_prime(test_prime))\n",
    "%time primes=primeSieve(2**20)"
   ]
  },
  {
   "cell_type": "code",
   "execution_count": 17,
   "metadata": {
    "collapsed": true
   },
   "outputs": [],
   "source": [
    "def find_perfect_number_euclid(Max=60,Min=1):\n",
    "    ''' Use Euclids method to find perfect numbers up to 2**Max, it is OK up to about Max=1000\n",
    "    Most of the time is spend finding the Mersenne primes.'''\n",
    "    perfects=[]\n",
    "    for ntry in range(Min,Max):\n",
    "        # Using is_prime3, we switch to a very large prime number tester that is not 100% accurate!\n",
    "        if is_prime(2**ntry-1):\n",
    "            perfects.append((ntry,(2**ntry-1)*2**(ntry-1)))\n",
    "    return(perfects)\n"
   ]
  },
  {
   "cell_type": "code",
   "execution_count": 19,
   "metadata": {},
   "outputs": [
    {
     "name": "stdout",
     "output_type": "stream",
     "text": [
      "This works reasonable up to 2**60. Too slow after that.\n",
      "CPU times: user 14.2 ms, sys: 356 µs, total: 14.5 ms\n",
      "Wall time: 14.6 ms\n",
      "[  2] 6\n",
      "[  3] 28\n",
      "[  5] 496\n",
      "[  7] 8128\n",
      "[ 13] 33550336\n",
      "[ 17] 8589869056\n",
      "[ 19] 137438691328\n",
      "[ 31] 2305843008139952128\n"
     ]
    }
   ],
   "source": [
    "print(\"This works reasonable up to 2**60. Too slow after that.\")\n",
    "%time perfects=find_perfect_number_euclid(60)\n",
    "for x,p in perfects:\n",
    "    print(\"[{:3d}] {}\".format(x,p))"
   ]
  },
  {
   "cell_type": "markdown",
   "metadata": {},
   "source": [
    "We got the Google number though, it is: $2^{16}(2^{17}-1) = 8589869056$ "
   ]
  },
  {
   "cell_type": "markdown",
   "metadata": {},
   "source": [
    "### Perfect Numbers part 3: Really Big Now\n",
    "The \"problem\" with our last attempt is that the prime number finder is too slow for numbers larger than about 2\\*\\*60. We need something a lot more sophisticated. There is a complicated algorithm due to Rabin-Miller. This is the kind of algorithm you look up instead of coding it yourself.  "
   ]
  },
  {
   "cell_type": "code",
   "execution_count": 41,
   "metadata": {
    "collapsed": true
   },
   "outputs": [],
   "source": [
    "import random\n",
    "def rabinMiller(num):\n",
    "    '''Returns True if num is a probably a prime number. Since it uses trial\n",
    "    functions, there is no guarantee. It is quite good though, and usually \n",
    "    the number is indeed prime if this returns true.'''\n",
    "    #\n",
    "    # This is not my code. I found this simplified algorithm at: https://inventwithpython.com/rabinMiller.py \n",
    "    # There are more extended codes available at: https://rosettacode.org/wiki/Miller–Rabin_primality_test\n",
    "    #\n",
    "    if num==2 or num==3: \n",
    "        return(True)\n",
    "    if num==0 or num==1 or num%2==0:\n",
    "        return(False)\n",
    "    \n",
    "    s = num - 1\n",
    "    t = 0\n",
    "    while s % 2 == 0:\n",
    "        # keep halving s while it is even (and use t\n",
    "        # to count how many times we halve s)\n",
    "        s = s // 2\n",
    "        t += 1\n",
    "\n",
    "    for trials in range(5): # try to falsify num's primality 5 times\n",
    "        a = random.randrange(2, num - 1)\n",
    "        v = pow(a, s, num)\n",
    "        if v != 1: # this test does not apply if v is 1.\n",
    "            i = 0\n",
    "            while v != (num - 1):\n",
    "                if i == t - 1:\n",
    "                    return False\n",
    "                else:\n",
    "                    i = i + 1\n",
    "                    v = (v ** 2) % num\n",
    "    return True\n",
    "\n",
    "\n",
    "def find_perfect_number_euclid_RabinMiller(Max=100,Min=1):\n",
    "    ''' Use Euclids method to find perfect numbers up to 2**Max. This version uses the Rabin-Miller\n",
    "    function to test for primes.'''\n",
    "    perfects=[]\n",
    "    for ntry in range(Min,Max):\n",
    "        # Using is_prime3, we switch to a very large prime number tester that is not 100% accurate!\n",
    "        if ntry<3:  # The RB does not work for numbers smaller than 2**3-1\n",
    "            if is_prime(2**ntry-1):\n",
    "#                print(\"Perfect number {} from {} doublings\".format((2**ntry-1)*2**(ntry-1),ntry))\n",
    "                perfects.append((ntry,(2**ntry-1)*2**(ntry-1)))\n",
    "        else: \n",
    "            if rabinMiller(2**ntry-1):\n",
    "#               print(\"Perfect number {} from {} doublings\".format((2**ntry-1)*2**(ntry-1),ntry))\n",
    "                perfects.append((ntry,(2**ntry-1)*2**(ntry-1)))\n",
    "    return(perfects)\n"
   ]
  },
  {
   "cell_type": "code",
   "execution_count": 48,
   "metadata": {},
   "outputs": [
    {
     "name": "stdout",
     "output_type": "stream",
     "text": [
      "This is prime:  True\n"
     ]
    }
   ],
   "source": [
    "# Test the rabinMiller against the is_prime\n",
    "print(\"This is prime: \",rabinMiller(1234567890234941))\n",
    "for n in range(100000):\n",
    "    if (is_prime(n)) != (rabinMiller(n)):\n",
    "        print(\"OOPS, we have a problem at: \",n)"
   ]
  },
  {
   "cell_type": "code",
   "execution_count": 50,
   "metadata": {},
   "outputs": [
    {
     "name": "stdout",
     "output_type": "stream",
     "text": [
      "CPU times: user 1.15 s, sys: 3.54 ms, total: 1.15 s\n",
      "Wall time: 1.15 s\n",
      "All Perfect Number < 2^1000\n",
      "[   2] - 6\n",
      "[   3] - 28\n",
      "[   5] - 496\n",
      "[   7] - 8128\n",
      "[  13] - 33550336\n",
      "[  17] - 8589869056\n",
      "[  19] - 137438691328\n",
      "[  31] - 2305843008139952128\n",
      "[  61] - 2658455991569831744654692615953842176\n",
      "[  89] - 191561942608236107294793378084303638130997321548169216\n",
      "[ 107] - 13164036458569648337239753460458722910223472318386943117783728128\n",
      "[ 127] - 14474011154664524427946373126085988481573677491474835889066354349131199152128\n",
      "[ 521] - 23562723457267347065789548996709904988477547858392600710143027597506337283178622239730365539602600561360255566462503270175052892578043215543382498428777152427010394496918664028644534128033831439790236838624033171435922356643219703101720713163527487298747400647801939587165936401087419375649057918549492160555646976\n",
      "[ 607] - 141053783706712069063207958086063189881486743514715667838838675999954867742652380114104193329037690251561950568709829327164087724366370087116731268159313652487450652439805877296207297446723295166658228846926807786652870188920867879451478364569313922060370695064736073572378695176473055266826253284886383715072974324463835300053138429460296575143368065570759537328128\n"
     ]
    }
   ],
   "source": [
    "%time perfects = find_perfect_number_euclid_RabinMiller(1000)\n",
    "print(\"All Perfect Number < 2^1000\")\n",
    "for i,p in perfects:\n",
    "    print(\"[{:4d}] - {}\".format(i,p))"
   ]
  },
  {
   "cell_type": "code",
   "execution_count": null,
   "metadata": {
    "collapsed": true
   },
   "outputs": [],
   "source": []
  }
 ],
 "metadata": {
  "kernelspec": {
   "display_name": "Python 3",
   "language": "python",
   "name": "python3"
  },
  "language_info": {
   "codemirror_mode": {
    "name": "ipython",
    "version": 3
   },
   "file_extension": ".py",
   "mimetype": "text/x-python",
   "name": "python",
   "nbconvert_exporter": "python",
   "pygments_lexer": "ipython3",
   "version": "3.6.3"
  }
 },
 "nbformat": 4,
 "nbformat_minor": 2
}
