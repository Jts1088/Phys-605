{
 "cells": [
  {
   "cell_type": "markdown",
   "metadata": {},
   "source": [
    "# Homework 2: Morse Code Problem - Solutions\n",
    "The first step for our program is to ask the user for a string, and put this string into a variable. For Python3, this is done with the \"input()\" statement. For Python2, you need to use \"input_raw()\". Interestingly enough, this also works in a notebook. For notebooks, there are no commandline arguments, so I cannot show that here. \n",
    "\n",
    "Here is the code that asks for input and then prints the answer from the user:"
   ]
  },
  {
   "cell_type": "code",
   "execution_count": 13,
   "metadata": {},
   "outputs": [
    {
     "name": "stdout",
     "output_type": "stream",
     "text": [
      "Please type your string:test\n",
      "You typed: test\n"
     ]
    }
   ],
   "source": [
    "answer = input(\"Please type your string:\")\n",
    "print(\"You typed:\",answer)"
   ]
  },
  {
   "cell_type": "markdown",
   "metadata": {},
   "source": [
    "## Step 2: Morse Code\n",
    "\n",
    "We look up the table for [Morse Code from Wikipedia](https://en.wikipedia.org/wiki/Morse_code).\n",
    "\n",
    "Here is the basic table for charactes and numbers from Wikipedia:\n",
    "<img src=\"https://upload.wikimedia.org/wikipedia/commons/b/b5/International_Morse_Code.svg\" width=\"35%\" height=\"35%\" alt=\"Morse Code Table\"/>\n",
    "Note that this table also gives an indication of how long each dash, dot or rest should be.\n",
    "\n",
    "We put the table into a Python dictionary. A refresher on lists and dictionary is found in the [Python Documentation on Data Structures](https://docs.python.org/3/tutorial/datastructures.html), for more detail, [see a tutorial](https://www.tutorialspoint.com/python/python_dictionary.htm)"
   ]
  },
  {
   "cell_type": "code",
   "execution_count": 22,
   "metadata": {},
   "outputs": [],
   "source": [
    "Morse_Code={'A':'.-',   'B':'-...', 'C':'-.-.', 'D':'-..',   'E':'.',     'F':'..-.',\n",
    "            'G': '--.', 'H':'....', 'I':'..',   'J':'.---',  'K':'-.-',   'L':'.-..', \n",
    "            'M':'--',   'N':'-.',   'O':'---',  'P': '.--.', 'Q': '--.-', 'R': '.-.', \n",
    "            'S': '...', 'T': '-',   'U':'..-', 'V': '...-','W': '.--',   'X': '-..-',\n",
    "            'Y': '-.--','Z': '--..',' ':'  ',\n",
    "            '0': '-----',  '1': '.----',  '2': '..---',\n",
    "            '3': '...--',  '4': '....-',  '5': '.....',\n",
    "            '6': '-....',  '7': '--...',  '8': '---..',\n",
    "            '9': '----.' }"
   ]
  },
  {
   "cell_type": "markdown",
   "metadata": {},
   "source": [
    "We do a really simple test, just display one of the letters with print()."
   ]
  },
  {
   "cell_type": "code",
   "execution_count": 4,
   "metadata": {},
   "outputs": [
    {
     "name": "stdout",
     "output_type": "stream",
     "text": [
      "-...\n"
     ]
    }
   ],
   "source": [
    "print(Morse_Code['B'])"
   ]
  },
  {
   "cell_type": "markdown",
   "metadata": {},
   "source": [
    "We now need to take a string and convert it, one character at a time, to Morse code. Note that the Morse_Code table only knows about the capital letter, so we need to capitalize the entire string first. There is a builtin method to get text from lower case to all upper case. You can just call the \".upper()\" method from the string class. Here is an example:"
   ]
  },
  {
   "cell_type": "code",
   "execution_count": 14,
   "metadata": {},
   "outputs": [
    {
     "name": "stdout",
     "output_type": "stream",
     "text": [
      "THIS IS MIXED CAPITAL TEXT\n"
     ]
    }
   ],
   "source": [
    "my_string = \"This Is miXed cApital Text\"\n",
    "print(my_string.upper())"
   ]
  },
  {
   "cell_type": "markdown",
   "metadata": {},
   "source": [
    "Next, we need to read the string character by character. There are several ways to accomplish this. You can address the letters in the string individually with an index, or you can itterator over the string. Here is an example."
   ]
  },
  {
   "cell_type": "code",
   "execution_count": 18,
   "metadata": {},
   "outputs": [
    {
     "name": "stdout",
     "output_type": "stream",
     "text": [
      "The 11th letter:  X\n",
      "T H I S   I S   M I X E D   C A P I T A L   T E X T \n"
     ]
    }
   ],
   "source": [
    " # This prints the 11-th letter in the string, since 0 is the first letter.\n",
    "print(\"The 11th letter: \",my_string.upper()[10])\n",
    "for ch in my_string.upper():\n",
    "    # for print(), end=\"\" tells Python how to end the string. Rather than the usual line return, end with a space. \n",
    "    print(ch,end=\" \") \n",
    "print(\"\") # And finally a line return."
   ]
  },
  {
   "cell_type": "markdown",
   "metadata": {},
   "source": [
    "So now we read the string, but substitute the Morse_Code for the letter. We want a single space between the Morse letters, and since an input space will be converted to two spaces, this ends up printing as 3 spaces in the output.\n",
    "Note that if you missed a letter in your table, or you added punctation in the input string, which also does not occur in the dictionary, then you get a \"Key Error\". For this assignment, just avoid such situations. For a more professional Morse Code program, you would want to catch such errors."
   ]
  },
  {
   "cell_type": "code",
   "execution_count": 23,
   "metadata": {},
   "outputs": [
    {
     "name": "stdout",
     "output_type": "stream",
     "text": [
      "- .... .. ...    .. ...    -- .. -..- . -..    -.-. .- .--. .. - .- .-..    - . -..- - \n"
     ]
    }
   ],
   "source": [
    "for ch in my_string.upper():\n",
    "    print(Morse_Code[ch],end=\" \")\n",
    "print(\"\")"
   ]
  },
  {
   "cell_type": "markdown",
   "metadata": {},
   "source": [
    "### Step 3\n",
    "For the final step, we want to get this as a string, not printed to the screen, and we want to set the code to blink an LED appropriately. The notebooks don't have an LED, but we can instead write print statements.\n",
    "\n",
    "We need to get some timing in our code. We do this by importing the \"time\" module, which allow the code to sleep for a given amount of time. \n",
    "\n",
    "Below is the full code, putting everything together."
   ]
  },
  {
   "cell_type": "code",
   "execution_count": 38,
   "metadata": {},
   "outputs": [
    {
     "name": "stdout",
     "output_type": "stream",
     "text": [
      "Please input your string:We are done\n",
      "Converted to upper case:  WE ARE DONE\n",
      "In Morse Code: .-- .    .- .-. .    -.. --- -. .\n",
      ". = LED on for 1 unit, off for one unit.\n",
      "- = LED on for 3 units, off for one unit.\n",
      "- = LED on for 3 units, off for one unit.\n",
      "  = LED off for additional unit\n",
      ". = LED on for 1 unit, off for one unit.\n",
      "  = LED off for additional unit\n",
      "  = LED off for additional unit\n",
      "  = LED off for additional unit\n",
      "  = LED off for additional unit\n",
      ". = LED on for 1 unit, off for one unit.\n",
      "- = LED on for 3 units, off for one unit.\n",
      "  = LED off for additional unit\n",
      ". = LED on for 1 unit, off for one unit.\n",
      "- = LED on for 3 units, off for one unit.\n",
      ". = LED on for 1 unit, off for one unit.\n",
      "  = LED off for additional unit\n",
      ". = LED on for 1 unit, off for one unit.\n",
      "  = LED off for additional unit\n",
      "  = LED off for additional unit\n",
      "  = LED off for additional unit\n",
      "  = LED off for additional unit\n",
      "- = LED on for 3 units, off for one unit.\n",
      ". = LED on for 1 unit, off for one unit.\n",
      ". = LED on for 1 unit, off for one unit.\n",
      "  = LED off for additional unit\n",
      "- = LED on for 3 units, off for one unit.\n",
      "- = LED on for 3 units, off for one unit.\n",
      "- = LED on for 3 units, off for one unit.\n",
      "  = LED off for additional unit\n",
      "- = LED on for 3 units, off for one unit.\n",
      ". = LED on for 1 unit, off for one unit.\n",
      "  = LED off for additional unit\n",
      ". = LED on for 1 unit, off for one unit.\n",
      "We are done.\n"
     ]
    }
   ],
   "source": [
    "import time\n",
    "# import RPi.GPIO as GPIO # This is commented out, since the notebook is not on the RPi.\n",
    "\n",
    "LED = 16  # The LED is on pin 16\n",
    "#\n",
    "# Initalize the GPIO system. See Lab 2. (https://learn.sparkfun.com/tutorials/raspberry-gpio/python-rpigpio-api)\n",
    "#\n",
    "# Un-comment on the RPi\n",
    "# GPIO.setmode(GPIO.BCM)\n",
    "# GPIO.setup(LED, GPIO.OUT)\n",
    "# GPIO.output(LED, GPIO.LOW)\n",
    "#\n",
    "Morse_Code={'A':'.-',   'B':'-...', 'C':'-.-.', 'D':'-..',   'E':'.',     'F':'..-.',\n",
    "            'G': '--.', 'H':'....', 'I':'..',   'J':'.---',  'K':'-.-',   'L':'.-..', \n",
    "            'M':'--',   'N':'-.',   'O':'---',  'P': '.--.', 'Q': '--.-', 'R': '.-.', \n",
    "            'S': '...', 'T': '-',   'U':'..-', 'V': '...-','W': '.--',   'X': '-..-',\n",
    "            'Y': '-.--','Z': '--..',' ':'  ',\n",
    "            '0': '-----',  '1': '.----',  '2': '..---',\n",
    "            '3': '...--',  '4': '....-',  '5': '.....',\n",
    "            '6': '-....',  '7': '--...',  '8': '---..',\n",
    "            '9': '----.' }\n",
    "# Ask the user for an input string, then print that string back all capital and in Morse Code\n",
    "\n",
    "answer = input(\"Please input your string:\")\n",
    "print(\"Converted to upper case: \",answer.upper())\n",
    "#\n",
    "# Method 1 to convert the letters to Morse code, using a loop.\n",
    "#\n",
    "ans_morse = []   # Prepare an empty string\n",
    "for ch in answer.upper():\n",
    "    ans_morse.append(Morse_Code[ch])\n",
    "#\n",
    "# Method 2 to convert letters to Morse Code, using \"list comprehension\"\n",
    "# This is more efficient than using a loop.\n",
    "#\n",
    "ans_morse = [ Morse_Code[ch] for ch in answer.upper()]    \n",
    "#\n",
    "# Convert individual letters in a list to a string. We want a space\n",
    "# between the letters. To do this we use the .join() method of strings. \n",
    "#\n",
    "ans_morse_str=' '.join(ans_morse)\n",
    "#\n",
    "# Print the output to the screen.\n",
    "#\n",
    "print(\"In Morse Code:\",ans_morse_str)\n",
    "#\n",
    "# Now go over the Morse Code string and convert it into pulses.\n",
    "#\n",
    "time_unit= 0.1 # This determines the speed. A . is one unit, a - is three units.\n",
    "for ch in ans_morse_str:\n",
    "    if ch == \".\": # LED on for 1 unit, off for one unit\n",
    "        print(\". = LED on for 1 unit, off for one unit.\")\n",
    "        # GPIO.output(LED, GPIO.HIGH)\n",
    "        time.sleep(time_unit)\n",
    "        # GPIO.output(LED, GPIO.LOW)\n",
    "        time.sleep(time_unit)\n",
    "    elif ch == \"-\": # LED on for 3 units, off for one unit\n",
    "        print(\"- = LED on for 3 units, off for one unit.\")\n",
    "        # GPIO.output(LED, GPIO.HIGH)\n",
    "        time.sleep(3*time_unit)\n",
    "        # GPIO.output(LED, GPIO.LOW)\n",
    "        time.sleep(time_unit)\n",
    "    elif ch == \" \": # LED off for extra unit.\n",
    "        # LED should be off already\n",
    "        print(\"  = LED off for additional unit\")\n",
    "        time.sleep(time_unit)\n",
    "    else:\n",
    "        print(\"There is an invalid character in the string.\")\n",
    "            \n",
    "print(\"We are done.\")       \n",
    "        "
   ]
  },
  {
   "cell_type": "code",
   "execution_count": null,
   "metadata": {
    "collapsed": true
   },
   "outputs": [],
   "source": []
  }
 ],
 "metadata": {
  "kernelspec": {
   "display_name": "Python 3",
   "language": "python",
   "name": "python3"
  },
  "language_info": {
   "codemirror_mode": {
    "name": "ipython",
    "version": 3
   },
   "file_extension": ".py",
   "mimetype": "text/x-python",
   "name": "python",
   "nbconvert_exporter": "python",
   "pygments_lexer": "ipython3",
   "version": "3.6.3"
  }
 },
 "nbformat": 4,
 "nbformat_minor": 2
}
