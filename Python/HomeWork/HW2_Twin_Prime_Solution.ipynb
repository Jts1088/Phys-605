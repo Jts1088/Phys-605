{
 "cells": [
  {
   "cell_type": "markdown",
   "metadata": {},
   "source": [
    "# Solution to the Twin Prime problem\n",
    "For a theoretical discussoin on twin primes, see: https://en.wikipedia.org/wiki/Twin_prime\n",
    "\n",
    "The purpose of this homework was for you to start learning about lists in Python, and specifically list comprehension. The alterior purpose was for you to learn how to look up how to get things done, whether you are using Python or any other computer language. The best way to learn is by doing.\n",
    "\n",
    "To work out our solution, first we need a function that can tell me if a number is a prime or not. The shortest such function would be:"
   ]
  },
  {
   "cell_type": "code",
   "execution_count": 1,
   "metadata": {
    "collapsed": false
   },
   "outputs": [],
   "source": [
    "def is_prime1(n):\n",
    "    for x in range(2,int(n**0.5)+1):  # No need to test more than sqrt of n, turned integer, rounded up.\n",
    "        if n%x == 0:\n",
    "            return(False)\n",
    "    return(True)"
   ]
  },
  {
   "cell_type": "code",
   "execution_count": 2,
   "metadata": {
    "collapsed": false
   },
   "outputs": [
    {
     "name": "stdout",
     "output_type": "stream",
     "text": [
      "True\n"
     ]
    }
   ],
   "source": [
    "print is_prime1(123456789+2)"
   ]
  },
  {
   "cell_type": "markdown",
   "metadata": {},
   "source": [
    "This is not the *best* solution, actually is is wrong since 1 and 0 are not prime. It also wastes quite a bit of time checking numbers that you already know to not be a prime, but it does suffice. If we want to be a bit more clever, we can only test odd numbers > 7. So to do better:"
   ]
  },
  {
   "cell_type": "code",
   "execution_count": 3,
   "metadata": {
    "collapsed": false
   },
   "outputs": [
    {
     "name": "stdout",
     "output_type": "stream",
     "text": [
      "True\n",
      "There is an erorr at  0 True False\n",
      "There is an erorr at  1 True False\n"
     ]
    }
   ],
   "source": [
    "def is_prime(n):\n",
    "    if n < 2:\n",
    "        return(False)\n",
    "    if n==2:\n",
    "        return(True)\n",
    "    if n%2 == 0:\n",
    "        return(False)\n",
    "    else:\n",
    "        for x in range(3,int(n**0.5)+1,2):  # No need to test more than sqrt of n, turned integer, rounded up. Only odds\n",
    "            if n%x == 0:\n",
    "                return(False)\n",
    "    return(True)\n",
    "print is_prime(123456789+2)\n",
    "for i in range(1000000):\n",
    "    if is_prime(i) != is_prime1(i):\n",
    "        print \"There is an erorr at \",i,is_prime1(i),is_prime(i)\n"
   ]
  },
  {
   "cell_type": "markdown",
   "metadata": {},
   "source": [
    "There are other implementation, some are even quite confusingly clever, but this one will do fine for reasonably sized numbers.\n",
    "\n",
    "## List Comprehension\n",
    "Part of the task was to use list comprehension. If you don't know what it is, then look it up! (http://www.secnetix.de/olli/Python/list_comprehensions.hawk)\n",
    "\n",
    "The range(N) function makes a list with numbers from 0 to N, with a stride of S, starting at A, you would call range(A,N,S).\n",
    "\n",
    "Now that you know, here is a list of primes up to 1000:"
   ]
  },
  {
   "cell_type": "code",
   "execution_count": 5,
   "metadata": {
    "collapsed": false
   },
   "outputs": [
    {
     "name": "stdout",
     "output_type": "stream",
     "text": [
      "[2, 3, 5, 7, 11, 13, 17, 19, 23, 29, 31, 37, 41, 43, 47, 53, 59, 61, 67, 71, 73, 79, 83, 89, 97, 101, 103, 107, 109, 113, 127, 131, 137, 139, 149, 151, 157, 163, 167, 173, 179, 181, 191, 193, 197, 199, 211, 223, 227, 229, 233, 239, 241, 251, 257, 263, 269, 271, 277, 281, 283, 293, 307, 311, 313, 317, 331, 337, 347, 349, 353, 359, 367, 373, 379, 383, 389, 397, 401, 409, 419, 421, 431, 433, 439, 443, 449, 457, 461, 463, 467, 479, 487, 491, 499, 503, 509, 521, 523, 541, 547, 557, 563, 569, 571, 577, 587, 593, 599, 601, 607, 613, 617, 619, 631, 641, 643, 647, 653, 659, 661, 673, 677, 683, 691, 701, 709, 719, 727, 733, 739, 743, 751, 757, 761, 769, 773, 787, 797, 809, 811, 821, 823, 827, 829, 839, 853, 857, 859, 863, 877, 881, 883, 887, 907, 911, 919, 929, 937, 941, 947, 953, 967, 971, 977, 983, 991, 997]\n"
     ]
    },
    {
     "data": {
      "text/plain": [
       "168"
      ]
     },
     "execution_count": 5,
     "metadata": {},
     "output_type": "execute_result"
    }
   ],
   "source": [
    "primes_to_1000 = [ x for x in range(1000) if is_prime(x)]\n",
    "print primes_to_1000\n",
    "len(primes_to_1000)"
   ]
  },
  {
   "cell_type": "markdown",
   "metadata": {},
   "source": [
    "So those were the first two requested steps. Now we want to *filter* the list, i.e. select the numbers that obey a specific criteria. The criteria is that p+2 is also a prime."
   ]
  },
  {
   "cell_type": "code",
   "execution_count": 5,
   "metadata": {
    "collapsed": false
   },
   "outputs": [
    {
     "name": "stdout",
     "output_type": "stream",
     "text": [
      "[3, 5, 11, 17, 29, 41, 59, 71, 101, 107, 137, 149, 179, 191, 197, 227, 239, 269, 281, 311, 347, 419, 431, 461, 521, 569, 599, 617, 641, 659, 809, 821, 827, 857, 881]\n"
     ]
    },
    {
     "data": {
      "text/plain": [
       "35"
      ]
     },
     "execution_count": 5,
     "metadata": {},
     "output_type": "execute_result"
    }
   ],
   "source": [
    "twin_primes = [ x for x in primes_to_1000 if is_prime(x+2)]\n",
    "print twin_primes\n",
    "len(twin_primes)"
   ]
  },
  {
   "cell_type": "markdown",
   "metadata": {},
   "source": [
    "We want them printed as pairs (p,p+2), so here we go:"
   ]
  },
  {
   "cell_type": "code",
   "execution_count": 6,
   "metadata": {
    "collapsed": false
   },
   "outputs": [
    {
     "name": "stdout",
     "output_type": "stream",
     "text": [
      "[(3, 5), (5, 7), (11, 13), (17, 19), (29, 31), (41, 43), (59, 61), (71, 73), (101, 103), (107, 109), (137, 139), (149, 151), (179, 181), (191, 193), (197, 199), (227, 229), (239, 241), (269, 271), (281, 283), (311, 313), (347, 349), (419, 421), (431, 433), (461, 463), (521, 523), (569, 571), (599, 601), (617, 619), (641, 643), (659, 661), (809, 811), (821, 823), (827, 829), (857, 859), (881, 883)]\n"
     ]
    }
   ],
   "source": [
    "print [ (x,x+2) for x in twin_primes]"
   ]
  },
  {
   "cell_type": "markdown",
   "metadata": {},
   "source": [
    "The homework didn't ask for this, but now that we are on a roll, we may as well also print the *isolated primes*"
   ]
  },
  {
   "cell_type": "code",
   "execution_count": 7,
   "metadata": {
    "collapsed": false
   },
   "outputs": [
    {
     "name": "stdout",
     "output_type": "stream",
     "text": [
      "[2, 23, 37, 47, 53, 67, 79, 83, 89, 97, 113, 127, 131, 157, 163, 167, 173, 211, 223, 233, 251, 257, 263, 277, 293, 307, 317, 331, 337, 353, 359, 367, 373, 379, 383, 389, 397, 401, 409, 439, 443, 449, 457, 467, 479, 487, 491, 499, 503, 509, 541, 547, 557, 563, 577, 587, 593, 607, 613, 631, 647, 653, 673, 677, 683, 691, 701, 709, 719, 727, 733, 739, 743, 751, 757, 761, 769, 773, 787, 797, 839, 853, 863, 877, 887, 907, 911, 919, 929, 937, 941, 947, 953, 967, 971, 977, 983, 991, 997]\n"
     ]
    }
   ],
   "source": [
    "isolated_primes = [ x for x in primes_to_1000 if x not in twin_primes and x-2 not in twin_primes]\n",
    "print isolated_primes"
   ]
  },
  {
   "cell_type": "markdown",
   "metadata": {},
   "source": [
    "This last statement show you how to detect if something is in a list \"x in mylist\", or not in the list \"x not in mylist\"."
   ]
  }
 ],
 "metadata": {
  "kernelspec": {
   "display_name": "Python 2",
   "language": "python",
   "name": "python2"
  },
  "language_info": {
   "codemirror_mode": {
    "name": "ipython",
    "version": 2
   },
   "file_extension": ".py",
   "mimetype": "text/x-python",
   "name": "python",
   "nbconvert_exporter": "python",
   "pygments_lexer": "ipython2",
   "version": "2.7.13"
  }
 },
 "nbformat": 4,
 "nbformat_minor": 2
}
