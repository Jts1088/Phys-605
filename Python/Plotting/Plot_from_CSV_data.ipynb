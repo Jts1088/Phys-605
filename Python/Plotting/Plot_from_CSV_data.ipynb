{
 "cells": [
  {
   "cell_type": "markdown",
   "metadata": {},
   "source": [
    "# Plotting data from Excel or CSV files\n",
    "The plotting capabilities of the Excel spreadsheet program are intended for business plots, and so leave a lot to be desired for plotting scientific data. Fortunately, this is relatively easy in Python with Matplotlib. \n",
    "\n",
    "First we need to import the modules that we require. The Pandas module is intended to read and write data, and has a component to read and write Excel files. It is not the only module that does this. There is also a module called csv, that would work just as well, but differently. Since Pandas is widely used, I will demonstrate its use here.\n",
    "\n",
    "We also import matplotlib.plt, which allows us to do plotting. It is very comprehensive and well documented. Alternatives are Bokeh, which makes Javascript enabled plots, and Plotly, which is a commercial plotter."
   ]
  },
  {
   "cell_type": "code",
   "execution_count": 1,
   "metadata": {},
   "outputs": [],
   "source": [
    "import pandas\n",
    "import numpy as np\n",
    "import matplotlib.pyplot as plt"
   ]
  },
  {
   "cell_type": "markdown",
   "metadata": {},
   "source": [
    "Once Pandas is enabled, we can use it to rear the csv file that the AD produced. To read an Excel xlmx file you can use \"pandas.read_excel\" instead."
   ]
  },
  {
   "cell_type": "code",
   "execution_count": 3,
   "metadata": {},
   "outputs": [
    {
     "data": {
      "text/plain": [
       "['IV_Curve_Green_LED.csv',\n",
       " '.DS_Store',\n",
       " 'LED_curves.pdf',\n",
       " 'IV_Curve_Orange_LED.csv',\n",
       " 'IV_curve_setup.dwf3scope',\n",
       " 'IV_Curve_Aqua_LED.csv',\n",
       " 'IV_Curve_Red_LED.csv',\n",
       " 'Plots_with_Bokeh.ipynb',\n",
       " 'IV_Curve_Violet_LED.csv',\n",
       " 'IV_Curve_Yellow_LED.csv',\n",
       " 'IV_Curve_Blue_LED.csv',\n",
       " 'Plot_from_CSV_data.ipynb',\n",
       " 'IV_Curve_Blue_LED.xlsx',\n",
       " '.ipynb_checkpoints']"
      ]
     },
     "execution_count": 3,
     "metadata": {},
     "output_type": "execute_result"
    }
   ],
   "source": [
    "import os\n",
    "os.listdir()   # Show me what is in the directory"
   ]
  },
  {
   "cell_type": "code",
   "execution_count": 6,
   "metadata": {},
   "outputs": [],
   "source": [
    "data_blue = pandas.read_excel(\"IV_Curve_Blue_LED.xlsx\")"
   ]
  },
  {
   "cell_type": "markdown",
   "metadata": {},
   "source": [
    "The data from the file is now read into the data_blue variable. We can inspect what was in the file with the \"head()\" function, that will print the titles and the first few values."
   ]
  },
  {
   "cell_type": "code",
   "execution_count": 7,
   "metadata": {},
   "outputs": [
    {
     "data": {
      "text/html": [
       "<div>\n",
       "<style scoped>\n",
       "    .dataframe tbody tr th:only-of-type {\n",
       "        vertical-align: middle;\n",
       "    }\n",
       "\n",
       "    .dataframe tbody tr th {\n",
       "        vertical-align: top;\n",
       "    }\n",
       "\n",
       "    .dataframe thead th {\n",
       "        text-align: right;\n",
       "    }\n",
       "</style>\n",
       "<table border=\"1\" class=\"dataframe\">\n",
       "  <thead>\n",
       "    <tr style=\"text-align: right;\">\n",
       "      <th></th>\n",
       "      <th>Channel 1 (V)</th>\n",
       "      <th>Channel 2 (V)</th>\n",
       "      <th>Math 1 (mA)</th>\n",
       "    </tr>\n",
       "  </thead>\n",
       "  <tbody>\n",
       "    <tr>\n",
       "      <th>0</th>\n",
       "      <td>-4.863828</td>\n",
       "      <td>-0.001978</td>\n",
       "      <td>-0.008991</td>\n",
       "    </tr>\n",
       "    <tr>\n",
       "      <th>1</th>\n",
       "      <td>-4.867527</td>\n",
       "      <td>-0.001978</td>\n",
       "      <td>-0.008991</td>\n",
       "    </tr>\n",
       "    <tr>\n",
       "      <th>2</th>\n",
       "      <td>-4.867527</td>\n",
       "      <td>-0.002313</td>\n",
       "      <td>-0.010513</td>\n",
       "    </tr>\n",
       "    <tr>\n",
       "      <th>3</th>\n",
       "      <td>-4.871227</td>\n",
       "      <td>-0.002313</td>\n",
       "      <td>-0.010513</td>\n",
       "    </tr>\n",
       "    <tr>\n",
       "      <th>4</th>\n",
       "      <td>-4.874927</td>\n",
       "      <td>-0.001978</td>\n",
       "      <td>-0.008991</td>\n",
       "    </tr>\n",
       "  </tbody>\n",
       "</table>\n",
       "</div>"
      ],
      "text/plain": [
       "   Channel 1 (V)  Channel 2 (V)  Math 1 (mA)\n",
       "0      -4.863828      -0.001978    -0.008991\n",
       "1      -4.867527      -0.001978    -0.008991\n",
       "2      -4.867527      -0.002313    -0.010513\n",
       "3      -4.871227      -0.002313    -0.010513\n",
       "4      -4.874927      -0.001978    -0.008991"
      ]
     },
     "execution_count": 7,
     "metadata": {},
     "output_type": "execute_result"
    }
   ],
   "source": [
    "data_blue.head()"
   ]
  },
  {
   "cell_type": "markdown",
   "metadata": {},
   "source": [
    "To access individual values, we would specify which column, e.g. \"Channel 1(V)\", and which row. We see that the actual data was more accurate than the head() function printed."
   ]
  },
  {
   "cell_type": "code",
   "execution_count": 8,
   "metadata": {},
   "outputs": [
    {
     "name": "stdout",
     "output_type": "stream",
     "text": [
      "-4.8712269448344\n"
     ]
    }
   ],
   "source": [
    "print(data_blue['Channel 1 (V)'][3])"
   ]
  },
  {
   "cell_type": "markdown",
   "metadata": {},
   "source": [
    "We now want to plot two of the columns against each other. We want \"Math 1(mA)\" on the y axis and \"Channel 1(V)\" on the x-axis. We tell plt (Matplotlib.pyplot) that we was a figure, we plot the data, we label the axis and give the plot a title, then show the results."
   ]
  },
  {
   "cell_type": "code",
   "execution_count": 9,
   "metadata": {},
   "outputs": [
    {
     "data": {
      "image/png": "[encoded data removed]",
      "text/plain": [
       "<Figure size 720x504 with 1 Axes>"
      ]
     },
     "metadata": {
      "needs_background": "light"
     },
     "output_type": "display_data"
    }
   ],
   "source": [
    "plt.figure(figsize=(10,7))   # Set the size of your plot. It will determine the relative size of all the labels.\n",
    "plt.plot(data_blue['Channel 1 (V)'],data_blue['Math 1 (mA)'],label=\"Blue Led\") # Plot a curve.\n",
    "plt.xlabel(\"V [V]\")\n",
    "plt.ylabel(\"I [mA]\")\n",
    "plt.title(\"I-V curves for LEDs\")\n",
    "plt.show()"
   ]
  },
  {
   "cell_type": "markdown",
   "metadata": {},
   "source": [
    "Depending on the oscilloscope settings, you can get the occasional artifact in the graph. Note that the wavegenerator swept back and forth between -5V and 5V, and where it started and stopped depended on details like the time scale and the trigger settings. If *your* curve does not look like this, you may need to limit the data set to a range where voltage sweep was from a negative to a positive value, and nothing else."
   ]
  },
  {
   "cell_type": "markdown",
   "metadata": {},
   "source": [
    "To get multiple curves, we repeat some of the statements, we read a different file, but plot the results at the same time."
   ]
  },
  {
   "cell_type": "code",
   "execution_count": 10,
   "metadata": {},
   "outputs": [],
   "source": [
    "data_green = pandas.read_csv(\"IV_Curve_Green_LED.csv\")\n",
    "data_red = pandas.read_csv(\"IV_Curve_Red_LED.csv\")\n",
    "data_orange = pandas.read_csv(\"IV_Curve_Orange_LED.csv\")\n",
    "data_aqua= pandas.read_csv(\"IV_Curve_Aqua_LED.csv\")\n",
    "data_violet= pandas.read_csv(\"IV_Curve_Violet_LED.csv\")\n",
    "data_yellow= pandas.read_csv(\"IV_Curve_Yellow_LED.csv\")"
   ]
  },
  {
   "cell_type": "code",
   "execution_count": 11,
   "metadata": {},
   "outputs": [
    {
     "data": {
      "text/html": [
       "<div>\n",
       "<style scoped>\n",
       "    .dataframe tbody tr th:only-of-type {\n",
       "        vertical-align: middle;\n",
       "    }\n",
       "\n",
       "    .dataframe tbody tr th {\n",
       "        vertical-align: top;\n",
       "    }\n",
       "\n",
       "    .dataframe thead th {\n",
       "        text-align: right;\n",
       "    }\n",
       "</style>\n",
       "<table border=\"1\" class=\"dataframe\">\n",
       "  <thead>\n",
       "    <tr style=\"text-align: right;\">\n",
       "      <th></th>\n",
       "      <th>Channel 1 (V)</th>\n",
       "      <th>Channel 2 (V)</th>\n",
       "      <th>Math 1 (mA)</th>\n",
       "    </tr>\n",
       "  </thead>\n",
       "  <tbody>\n",
       "    <tr>\n",
       "      <th>0</th>\n",
       "      <td>-4.863828</td>\n",
       "      <td>-0.002313</td>\n",
       "      <td>-0.010513</td>\n",
       "    </tr>\n",
       "    <tr>\n",
       "      <th>1</th>\n",
       "      <td>-4.867527</td>\n",
       "      <td>-0.001978</td>\n",
       "      <td>-0.008991</td>\n",
       "    </tr>\n",
       "    <tr>\n",
       "      <th>2</th>\n",
       "      <td>-4.867527</td>\n",
       "      <td>-0.002313</td>\n",
       "      <td>-0.010513</td>\n",
       "    </tr>\n",
       "    <tr>\n",
       "      <th>3</th>\n",
       "      <td>-4.871227</td>\n",
       "      <td>-0.002313</td>\n",
       "      <td>-0.010513</td>\n",
       "    </tr>\n",
       "    <tr>\n",
       "      <th>4</th>\n",
       "      <td>-4.871227</td>\n",
       "      <td>-0.001978</td>\n",
       "      <td>-0.008991</td>\n",
       "    </tr>\n",
       "  </tbody>\n",
       "</table>\n",
       "</div>"
      ],
      "text/plain": [
       "   Channel 1 (V)  Channel 2 (V)  Math 1 (mA)\n",
       "0      -4.863828      -0.002313    -0.010513\n",
       "1      -4.867527      -0.001978    -0.008991\n",
       "2      -4.867527      -0.002313    -0.010513\n",
       "3      -4.871227      -0.002313    -0.010513\n",
       "4      -4.871227      -0.001978    -0.008991"
      ]
     },
     "execution_count": 11,
     "metadata": {},
     "output_type": "execute_result"
    }
   ],
   "source": [
    "data_green.head()"
   ]
  },
  {
   "cell_type": "code",
   "execution_count": 12,
   "metadata": {},
   "outputs": [
    {
     "data": {
      "image/png": "[encoded data removed]",
      "text/plain": [
       "<Figure size 720x504 with 1 Axes>"
      ]
     },
     "metadata": {
      "needs_background": "light"
     },
     "output_type": "display_data"
    }
   ],
   "source": [
    "plt.figure(figsize=(10,7))   # Set the size of your plot. It will determine the relative size of all the labels.\n",
    "plt.plot(data_violet['Channel 1 (V)'],data_violet['Math 1 (mA)'],color=\"violet\",label=\"Violet Led\") \n",
    "plt.plot(data_blue['Channel 1 (V)'],data_blue['Math 1 (mA)'],color=\"blue\",label=\"Blue Led\") # Plot a curve.\n",
    "plt.plot(data_aqua['Channel 1 (V)'],data_aqua['Math 1 (mA)'],color=\"aqua\",label=\"Aqua Led\")\n",
    "plt.plot(data_green['Channel 1 (V)'],data_green['Math 1 (mA)'],color=\"green\",label=\"Green Led\") # Plot a curve.\n",
    "plt.plot(data_yellow['Channel 1 (V)'],data_red['Math 1 (mA)'],color=\"yellow\",label=\"Yellow Led\") \n",
    "plt.plot(data_orange['Channel 1 (V)'],data_orange['Math 1 (mA)'],color=\"orange\",label=\"Orange Led\") \n",
    "plt.plot(data_red['Channel 1 (V)'],data_red['Math 1 (mA)'],color=\"red\",label=\"Red Led\") \n",
    "plt.xlabel(\"V [V]\")\n",
    "plt.xlim((-0.5,3.5))\n",
    "plt.ylabel(\"I [mA]\")\n",
    "plt.legend(loc=\"upper left\")\n",
    "plt.title(\"I-V curves for LEDs\")\n",
    "plt.savefig(\"LED_curves.pdf\")\n",
    "plt.show()"
   ]
  },
  {
   "cell_type": "markdown",
   "metadata": {},
   "source": [
    "Note that I limited the range of the x-axis to make the curves stand out more clearly. Also note that the LEDs I used were not all by the same manufacturer, and different manufacturers can make slightly different LED even when the color is the same. You can still see that the turn-on voltage for the LEDs differs by color and the effective resistance, as you can see from the slope, of the LEDs is also slightly different depending on the type."
   ]
  }
 ],
 "metadata": {
  "kernelspec": {
   "display_name": "Python 3",
   "language": "python",
   "name": "python3"
  },
  "language_info": {
   "codemirror_mode": {
    "name": "ipython",
    "version": 3
   },
   "file_extension": ".py",
   "mimetype": "text/x-python",
   "name": "python",
   "nbconvert_exporter": "python",
   "pygments_lexer": "ipython3",
   "version": "3.7.2"
  }
 },
 "nbformat": 4,
 "nbformat_minor": 2
}
