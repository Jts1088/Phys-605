{
 "cells": [
  {
   "cell_type": "markdown",
   "metadata": {},
   "source": [
    "# Jupyter Notebooks\n",
    "## Introduction\n",
    "A relative new feature of Python is the Jupyter Notebook. These notebooks run in your browser. They use a *Markdown*, (see this [cheatsheet](https://github.com/adam-p/markdown-here/wiki/Markdown-Cheatsheet) for help) with HTML and LaTex mixed in, to nicely format the text comments, and they use full Python to do computations. There are plugins to do C++ as well, if you insist.\n",
    "\n",
    "This document is itself a Jupyter notebook. You can look at it on GitHub, but if you download it and launch it on your own system, you can make modifications, save them, and run the Python code directly in the notebook. If you don't want to install anything, and don't care about saving your changes, you can pass the GitHub URL to [Binder](mybinder.org) and have a fully interactive notebook (without the save option). Binder is still a bit experimental, but getting better. All the Phys605 notebooks are already available there:[![Binder](http://mybinder.org/badge.svg)](http://mybinder.org:/repo/mholtrop/phys605)\n",
    "\n",
    "We will make use of these notebook in Physics 605, and for some homework and lab reports, this might be a very convenient way for your to submit your work. Either submit the notebook (.ipynb extension) or submit a GitHub URL. \n",
    "For your own use, you can also convert the notebook to a Python script, or an HTML webpage, or you can print it to paper or to pdf. A Jupyter notebook can also be exported to pdf directly if you install [Pandoc](http://pandoc.org/installing.html) and LaTex.\n",
    "\n",
    "## Getting Started\n",
    "To get started wiht Jupyter Notebooks, you first need to have installed ipython and the jupyter libraries. Fortunately this is already done for you if you installed the Anaconda Python distribution. See [Installing Python]( https://unh.instructure.com/courses/24545/pages/installing-python-on-your-own-system) on MyCources for details.\n",
    "\n",
    "There are several ways to get the notebook server started on you own machine:\n",
    "* You can use the \"Anaconda-Navigator\" and click on \"Launch\" for the Jupyter notebooks. \n",
    "* You can type \"jupyter notebook\", or \"jupyter-notebook\", in a terminal, Powershell, or command window.\n",
    "* \n",
    "Also see: [Jupyter Documentation](http://jupyter.readthedocs.io/en/latest/index.html)\n",
    "\n",
    "A Jupyter server will start up on your system, and usually, starts your browser on a page http://localhost:8888 \n"
   ]
  },
  {
   "cell_type": "markdown",
   "metadata": {
    "collapsed": true
   },
   "source": [
    "## Entering and running code\n",
    "\n",
    "In a Jupyter notebook you type text into the input box, and if you are done, you type shift+enter to execute that code. The same is true for the Markdown text, type shift+enter and the text is rendered pretty.\n",
    "\n",
    "Note that for a notebook wiht a bunch of Python code in it, you usually need to execute the in[] lines in order, since what was computed before may be needed later in the notebook.\n",
    "\n",
    "At the top of the notebook document in your browser, you see a standard menu bar. Note the black square for \"interrupt kernel\". That is what you hit if you had some code that takes too long to complete and is now hogging your computer's CPU. The circular arrow allows you to re-launch the kernel, which is a full reset. That means that the in[] fields need to be executed again from the 1st one.\n",
    "\n",
    "You switch the *type* of input, between code, Markdown, Raw, with the selector box next to the arrow. The Markdown input does not a an in[] in front, and usually does not need to be executed again.\n",
    "\n",
    "To re-edit an input that you previously executed, just double click the input box.\n",
    "\n",
    "**Remember** regularly save your work when writing notebooks! 🙂"
   ]
  },
  {
   "cell_type": "markdown",
   "metadata": {},
   "source": [
    "## Using Matplotlib in a Notebook\n",
    "If you want matplotlib, the plotting library that we will be using in this course, to work properly in a notebook, the prefered way is to enter the following lines at the very beginning of the Python code in your notebook. You do this so that it knows your code is running inline in the notebook and is not supposed to pop up a window. "
   ]
  },
  {
   "cell_type": "code",
   "execution_count": 2,
   "metadata": {
    "collapsed": true
   },
   "outputs": [],
   "source": [
    "%matplotlib inline\n",
    "import matplotlib.pyplot as plt"
   ]
  },
  {
   "cell_type": "markdown",
   "metadata": {},
   "source": [
    "## Getting started with some Python\n",
    "A great place to learn about the Python language is in the [Tutorial](https://docs.python.org/2/tutorial/index.html), which is part of the [Python documentation](https://docs.python.org/2/index.html). Here is super brief mini tutorial to get you started.\n",
    "\n",
    "Here is the most basic bit of Python code, something that just prints \"Hello World\", which is traditionally the start of any programming course. "
   ]
  },
  {
   "cell_type": "code",
   "execution_count": 3,
   "metadata": {
    "collapsed": false
   },
   "outputs": [
    {
     "name": "stdout",
     "output_type": "stream",
     "text": [
      "Hello World\n"
     ]
    }
   ],
   "source": [
    "print \"Hello World\""
   ]
  },
  {
   "cell_type": "markdown",
   "metadata": {},
   "source": [
    "Now, lets make that more interesting. How about 10 lines of \"Hello World\", each line indented one extra space."
   ]
  },
  {
   "cell_type": "code",
   "execution_count": 4,
   "metadata": {
    "collapsed": false
   },
   "outputs": [
    {
     "name": "stdout",
     "output_type": "stream",
     "text": [
      "Hello World\n",
      " Hello World\n",
      "  Hello World\n",
      "   Hello World\n",
      "    Hello World\n",
      "     Hello World\n",
      "      Hello World\n",
      "       Hello World\n",
      "        Hello World\n",
      "         Hello World\n"
     ]
    }
   ],
   "source": [
    "for i in range(10):\n",
    "    print \" \"*i + \"Hello World\""
   ]
  },
  {
   "cell_type": "markdown",
   "metadata": {},
   "source": [
    "Here you see some interesting features of Python compared to other languages:\n",
    "* Python uses indentation to create a program block. In C++,C, or Java, this is done with {}, which is why those languages are sometimes called \"bracket hell\".\n",
    "* Instead of the `for(int i=0;i<10;i++){}` construct in C, we use `range(10)`.\n",
    "    * The `range(10)` construct actually produces a list: `[0,1,2,3,4,5,6,7,8,9]` and then itterates over the list.\n",
    "* In Python you usually do not need to declare a variable. Python figures out on its own what type a variable is. \n",
    "    * If you want to know, use the `type()` build in function.\n",
    "* In python many operations, like multiply a space \" \" by an integer, \"just make sense\". Except when it doesn't 😬\n",
    "\n",
    "One of the huge benefits of programming in Python is that you can start an interactive python shell (type `ipython` on the command line) and try out what the effect is of some bit of code. Or you can do this in a notebook.\n",
    "\n",
    "Something else to point out: commends start with a #. Everything after the # is ignored by the Python interpreter."
   ]
  },
  {
   "cell_type": "code",
   "execution_count": 34,
   "metadata": {
    "collapsed": false
   },
   "outputs": [
    {
     "data": {
      "text/plain": [
       "int"
      ]
     },
     "execution_count": 34,
     "metadata": {},
     "output_type": "execute_result"
    }
   ],
   "source": [
    "i = 10 # This is an integer\n",
    "type(i)"
   ]
  },
  {
   "cell_type": "code",
   "execution_count": 35,
   "metadata": {
    "collapsed": false
   },
   "outputs": [
    {
     "data": {
      "text/plain": [
       "float"
      ]
     },
     "execution_count": 35,
     "metadata": {},
     "output_type": "execute_result"
    }
   ],
   "source": [
    "i = 0.123 # Now, i is float\n",
    "type(i)"
   ]
  },
  {
   "cell_type": "code",
   "execution_count": 36,
   "metadata": {
    "collapsed": false
   },
   "outputs": [
    {
     "name": "stdout",
     "output_type": "stream",
     "text": [
      "<type 'list'>\n",
      "<type 'str'>\n",
      "[1, 2, 3.4, 5, 'Hello you!']\n"
     ]
    }
   ],
   "source": [
    "i = [1,2,3.4,5,\"Hello you!\"] # now i is a list, with integers, floats and a string mixed up inside. Python doesn't care.\n",
    "print type(i)                # You can print just about anything, and usually it looks OK.\n",
    "print type(i[4])\n",
    "print i"
   ]
  },
  {
   "cell_type": "markdown",
   "metadata": {},
   "source": [
    "Here you see another feature of Python. A variable (in this case `i`) is not *reassigned a new value*, but instead it is *destroyed* and *recreated*. So in the first line `i` was an integer, in the second line, a new variable, also called `i` is created and this time it is a float. Usually you do not need to worry about this behavior, but occasionally it can give interesting side effects.\n",
    "\n",
    "## Getting help\n",
    "For almost everything in Python, help is build right into the system. You can simply type help(object) to get help on that object. The help you get is often a bit terse. Search the internet and you will find a wealth of information."
   ]
  },
  {
   "cell_type": "code",
   "execution_count": 37,
   "metadata": {
    "collapsed": false
   },
   "outputs": [
    {
     "name": "stdout",
     "output_type": "stream",
     "text": [
      "The \"if\" statement\n",
      "******************\n",
      "\n",
      "The \"if\" statement is used for conditional execution:\n",
      "\n",
      "   if_stmt ::= \"if\" expression \":\" suite\n",
      "               ( \"elif\" expression \":\" suite )*\n",
      "               [\"else\" \":\" suite]\n",
      "\n",
      "It selects exactly one of the suites by evaluating the expressions one\n",
      "by one until one is found to be true (see section Boolean operations\n",
      "for the definition of true and false); then that suite is executed\n",
      "(and no other part of the \"if\" statement is executed or evaluated).\n",
      "If all expressions are false, the suite of the \"else\" clause, if\n",
      "present, is executed.\n",
      "\n",
      "Related help topics: TRUTHVALUE\n",
      "\n"
     ]
    }
   ],
   "source": [
    "help(\"if\")"
   ]
  },
  {
   "cell_type": "markdown",
   "metadata": {},
   "source": [
    "## Tuples, Lists, Arrays, Dictionaries\n",
    "In Python there are a few different ways of creating a collection of things: tuple, list, set, array and dictionary. In Fortran and C you pretty much only have the idea of an *array*, which in those languages is essentially a range of computer memory locations. In Java you also have *collections*, and there are a whole confusing lot more if them. In C++ you have *array*, and *STL containers*, and again there are a whole lot of them.\n",
    "\n",
    "In Python, a `list` is an object that contains a *list* of other objects, or values. You create one like this:"
   ]
  },
  {
   "cell_type": "code",
   "execution_count": 38,
   "metadata": {
    "collapsed": false
   },
   "outputs": [
    {
     "name": "stdout",
     "output_type": "stream",
     "text": [
      "['one', 2, 'three', 3.141]\n"
     ]
    }
   ],
   "source": [
    "my_list = [\"one\",2,\"three\",3.141]\n",
    "print my_list"
   ]
  },
  {
   "cell_type": "markdown",
   "metadata": {},
   "source": [
    "You can stick any other object in your list, including classes and functions, and you can mix them all up. In that way the list is quite different from most other languages, which require their arrays to have a uniform contents. The items in the list start at item 0, so:"
   ]
  },
  {
   "cell_type": "code",
   "execution_count": 39,
   "metadata": {
    "collapsed": false
   },
   "outputs": [
    {
     "name": "stdout",
     "output_type": "stream",
     "text": [
      "one\n"
     ]
    }
   ],
   "source": [
    "print my_list[0]"
   ]
  },
  {
   "cell_type": "markdown",
   "metadata": {},
   "source": [
    "You can change the values in a list by re-assigning them to something different, and you can add new values, or delete values. Learn more about lists [here](https://docs.python.org/2/tutorial/introduction.html#lists) and then [here](https://docs.python.org/2/tutorial/datastructures.html)\n",
    "\n",
    "Tuples look very much like a list, except that once created you cannot change the values that are in a tuple; they are *immutable*. An example tuple:"
   ]
  },
  {
   "cell_type": "code",
   "execution_count": 40,
   "metadata": {
    "collapsed": false
   },
   "outputs": [
    {
     "name": "stdout",
     "output_type": "stream",
     "text": [
      "another string\n"
     ]
    }
   ],
   "source": [
    "my_tuple = (0,1,'OK',\"another string\")\n",
    "print my_tuple[3]"
   ]
  },
  {
   "cell_type": "markdown",
   "metadata": {},
   "source": [
    "Learn more about tuples [here](https://docs.python.org/2/tutorial/datastructures.html#tuples-and-sequences)\n",
    "\n",
    "An important aspect of lists is \"List comprehensions\". These are fast and compact ways of dealing with lists. A complicated example: create a list that contains tuples (x,x^2,x^3) for x from 0 to 99. Then find the index of the tuple where x^2 is larger than 20 but smaller than 40. (of course we know that is the indexes: 5 and 6, but still):"
   ]
  },
  {
   "cell_type": "code",
   "execution_count": 41,
   "metadata": {
    "collapsed": false
   },
   "outputs": [
    {
     "name": "stdout",
     "output_type": "stream",
     "text": [
      "[5, 6]\n"
     ]
    }
   ],
   "source": [
    "a = [(x,x*x,x*x*x) for x in range(100)]\n",
    "found = [ y for y in a if y[1] > 20 and y[1]<40]   # this selects the correct items in a\n",
    "ind = [ a.index(i) for i in found]                 # this finds the index.\n",
    "print ind                                     "
   ]
  },
  {
   "cell_type": "markdown",
   "metadata": {},
   "source": [
    "The *dictionary* is a very handy object in Python. It allows you to build a list of items where the index is some object (like a string) instead of a number. You can create one, add to it, and then look things up in it, like this:"
   ]
  },
  {
   "cell_type": "code",
   "execution_count": 49,
   "metadata": {
    "collapsed": false
   },
   "outputs": [
    {
     "name": "stdout",
     "output_type": "stream",
     "text": [
      "3.14157  and  Pi\n"
     ]
    }
   ],
   "source": [
    "d = {\"one\":1, \"two\":\"Wednesday\", 4:\"February\", 3.141:\"Pi\",\"Pi\":3.14157}\n",
    "d['Coconuts']=\"Hard but yummy\"   # Add something to the list\n",
    "print d[\"Pi\"], \" and \",d[3.141]"
   ]
  },
  {
   "cell_type": "markdown",
   "metadata": {},
   "source": [
    "Note that if you try to get something from the dictionary that isn't there (e.g. print d[5]), you get a \"Key error\", the key (the first object for each dictionary item) wasn't there. You can use \"in\" to test if it exists."
   ]
  },
  {
   "cell_type": "code",
   "execution_count": 52,
   "metadata": {
    "collapsed": false
   },
   "outputs": [
    {
     "name": "stdout",
     "output_type": "stream",
     "text": [
      "Not found\n"
     ]
    }
   ],
   "source": [
    "s = 5\n",
    "if s in d:\n",
    "    print d[s]\n",
    "else:\n",
    "    print \"Not found\""
   ]
  },
  {
   "cell_type": "markdown",
   "metadata": {},
   "source": [
    "You can itterate over the dictionary like this:"
   ]
  },
  {
   "cell_type": "code",
   "execution_count": 58,
   "metadata": {
    "collapsed": false,
    "scrolled": true
   },
   "outputs": [
    {
     "name": "stdout",
     "output_type": "stream",
     "text": [
      "We have 4 = February\n",
      "We have two = Wednesday\n",
      "We have 3.141 = Pi\n",
      "We have one = 1\n",
      "We have Coconuts = Hard but yummy\n",
      "We have Pi = 3.14157\n"
     ]
    }
   ],
   "source": [
    "for (key,value) in d.iteritems():               # You can also use d.items(), but it is slower for large dicts.\n",
    "    print \"We have \"+str(key)+\" = \"+str(value)"
   ]
  },
  {
   "cell_type": "markdown",
   "metadata": {},
   "source": [
    "## Keep Going\n",
    "I hope this got you started. Some of the many things you would want to learn about in Python:\n",
    "* `if`, conditional execution\n",
    "* `for` (and `while`) loops\n",
    "* `print`, and how to get formated strings (see [here](https://docs.python.org/2/tutorial/inputoutput.html))\n",
    "* [functions](https://docs.python.org/2/tutorial/controlflow.html#defining-functions) \n",
    "* [Python classes](https://docs.python.org/2/tutorial/classes.html)\n",
    "* [modules](https://docs.python.org/2/tutorial/modules.html)\n",
    "\n",
    "The Tutorial will get you going with all of this.\n",
    "\n",
    "Remember: You don't need to know everything about Python in order to get going *using* it. Just try at the ipython prompt. Before you know it, you will be using ipython as your default calculator... "
   ]
  }
 ],
 "metadata": {
  "kernelspec": {
   "display_name": "Python 2",
   "language": "python",
   "name": "python2"
  },
  "language_info": {
   "codemirror_mode": {
    "name": "ipython",
    "version": 2
   },
   "file_extension": ".py",
   "mimetype": "text/x-python",
   "name": "python",
   "nbconvert_exporter": "python",
   "pygments_lexer": "ipython2",
   "version": "2.7.13"
  }
 },
 "nbformat": 4,
 "nbformat_minor": 2
}
