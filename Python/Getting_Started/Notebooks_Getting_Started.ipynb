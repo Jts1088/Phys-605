{
 "cells": [
  {
   "cell_type": "markdown",
   "metadata": {},
   "source": [
    "# Jupyter Notebooks\n",
    "## Introduction\n",
    "A relative new feature of Python is the Jupyter Notebook. These notebooks run in your browser. They use a *Markdown*, with HTML and LaTex mixed in, to nicely format the text comments, and they use full Python to do computations. There are plugins to do C++ as well, if you insist.\n",
    "\n",
    "This document is itself a Jupyter notebook. You can look at it on GitHub, but if you download it and launch it on your own system, you can make modifications and run the Python code directly in the notebook.\n",
    "\n",
    "We will make use of these notebook in Physics 605, and for some homework and lab reports, this might be a very convenient way for your to submit your work. You can convert the notebook to a Python script, or an HTML webpage, or you can print it to paper or to pdf. A Jupyter notebook can also be exported to pdf directly (if you install [Pandoc](http://pandoc.org/installing.html) and LaTex).\n",
    "\n",
    "## Getting Started\n",
    "To get started wiht Jupyter Notebooks, you first need to have installed ipython and the jupyter libraries. Fortunately this is already done for you if you installed the Anaconda Python distribution. See [Installing Python]( https://unh.instructure.com/courses/24545/pages/installing-python-on-your-own-system) on MyCources for details.\n",
    "\n",
    "There are several ways to get the notebook server started on you own machine:\n",
    "* You can use the \"Anaconda-Navigator\" and click on \"Launch\" for the Jupyter notebooks. \n",
    "* You can type \"jupyter notebook\", or \"jupyter-notebook\", in a terminal, Powershell, or command window.\n",
    "* \n",
    "Also see: [Jupyter Documentation](http://jupyter.readthedocs.io/en/latest/index.html)\n",
    "\n",
    "A Jupyter server will start up on your system, and usually, starts your browser on a page http://localhost:8888 \n",
    "\n",
    "## Entering and running code\n",
    "\n",
    "In a Jupyter notebook you type text into the "
   ]
  },
  {
   "cell_type": "code",
   "execution_count": null,
   "metadata": {
    "collapsed": true
   },
   "outputs": [],
   "source": []
  }
 ],
 "metadata": {
  "kernelspec": {
   "display_name": "Python 2",
   "language": "python",
   "name": "python2"
  },
  "language_info": {
   "codemirror_mode": {
    "name": "ipython",
    "version": 2
   },
   "file_extension": ".py",
   "mimetype": "text/x-python",
   "name": "python",
   "nbconvert_exporter": "python",
   "pygments_lexer": "ipython2",
   "version": "2.7.13"
  }
 },
 "nbformat": 4,
 "nbformat_minor": 2
}
