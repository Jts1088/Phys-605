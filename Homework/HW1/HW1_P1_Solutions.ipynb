{
 "cells": [
  {
   "cell_type": "markdown",
   "metadata": {},
   "source": [
    "# Phys 605 Homework 1 Problem 1\n",
    "\n",
    "I will first provide the solution for the functional programming method, and next for the object oriented method. If you wrote your answer as a function, please also look at the solution for the object oriented method.\n",
    "\n",
    "For series, the resulting equivalent resistor is simply:\n",
    "$$\n",
    "R_{eq} = R_{1} + R_{2} + R_{3} + ...\n",
    "$$\n",
    "\n",
    "For parallel, the resulting equivalent resistor is found from:\n",
    "$$\n",
    "\\frac{1}{R_{eq}} = \\frac{1}{R_1} + \\frac{1}{R_2} + \\frac{1}{R_3} + ...\n",
    "$$\n",
    "For two resistors, this equation allows you to simplify to:\n",
    "$$\n",
    "R_{eq} = \\frac{R_1 R_2}{R_1 + R_2}\n",
    "$$\n",
    "\n",
    "Note that for the first equation, you need to take special care for the situation where one of the resistors has zero resitance, i.e. it is a wire. In that case the equivalent resistor also has zero resistance. For the second formulation, this exception only needs to be handled if *both* resistors are zero.\n",
    "\n",
    "## Beginner: Functional Programming\n",
    "\n",
    "We write functions to compute the answers for us.\n",
    "\n",
    "### a: Functions for Series and Parallel"
   ]
  },
  {
   "cell_type": "code",
   "execution_count": 1,
   "metadata": {},
   "outputs": [],
   "source": [
    "def Series(R1,R2):\n",
    "    # The R1 and R2 values can simply be added for series configuration.\n",
    "    return(R1+R2)\n",
    "\n",
    "def Parallel(R1,R2):\n",
    "    # For parallel:\n",
    "    Req = R1*R2/(R1 + R2)\n",
    "    return(Req)"
   ]
  },
  {
   "cell_type": "markdown",
   "metadata": {},
   "source": [
    "Test the code:"
   ]
  },
  {
   "cell_type": "code",
   "execution_count": 2,
   "metadata": {},
   "outputs": [
    {
     "name": "stdout",
     "output_type": "stream",
     "text": [
      "30\n",
      "6.666666666666667\n",
      "0.0\n"
     ]
    },
    {
     "ename": "ZeroDivisionError",
     "evalue": "division by zero",
     "output_type": "error",
     "traceback": [
      "\u001b[0;31m---------------------------------------------------------------------------\u001b[0m",
      "\u001b[0;31mZeroDivisionError\u001b[0m                         Traceback (most recent call last)",
      "\u001b[0;32m<ipython-input-2-34a505c576d5>\u001b[0m in \u001b[0;36m<module>\u001b[0;34m\u001b[0m\n\u001b[1;32m      2\u001b[0m \u001b[0mprint\u001b[0m\u001b[0;34m(\u001b[0m \u001b[0mParallel\u001b[0m\u001b[0;34m(\u001b[0m\u001b[0;36m10\u001b[0m\u001b[0;34m,\u001b[0m\u001b[0;36m20\u001b[0m\u001b[0;34m)\u001b[0m\u001b[0;34m)\u001b[0m \u001b[0;31m# Should print 6.66666\u001b[0m\u001b[0;34m\u001b[0m\u001b[0;34m\u001b[0m\u001b[0m\n\u001b[1;32m      3\u001b[0m \u001b[0mprint\u001b[0m\u001b[0;34m(\u001b[0m \u001b[0mParallel\u001b[0m\u001b[0;34m(\u001b[0m\u001b[0;36m10\u001b[0m\u001b[0;34m,\u001b[0m\u001b[0;36m0\u001b[0m\u001b[0;34m)\u001b[0m\u001b[0;34m)\u001b[0m  \u001b[0;31m# This should print 0\u001b[0m\u001b[0;34m\u001b[0m\u001b[0;34m\u001b[0m\u001b[0m\n\u001b[0;32m----> 4\u001b[0;31m \u001b[0mprint\u001b[0m\u001b[0;34m(\u001b[0m \u001b[0mParallel\u001b[0m\u001b[0;34m(\u001b[0m\u001b[0;36m0\u001b[0m\u001b[0;34m,\u001b[0m\u001b[0;36m0\u001b[0m\u001b[0;34m)\u001b[0m\u001b[0;34m)\u001b[0m   \u001b[0;31m# This should give 0, but returns an error.\u001b[0m\u001b[0;34m\u001b[0m\u001b[0;34m\u001b[0m\u001b[0m\n\u001b[0m",
      "\u001b[0;32m<ipython-input-1-ad65155b20c9>\u001b[0m in \u001b[0;36mParallel\u001b[0;34m(R1, R2)\u001b[0m\n\u001b[1;32m      5\u001b[0m \u001b[0;32mdef\u001b[0m \u001b[0mParallel\u001b[0m\u001b[0;34m(\u001b[0m\u001b[0mR1\u001b[0m\u001b[0;34m,\u001b[0m\u001b[0mR2\u001b[0m\u001b[0;34m)\u001b[0m\u001b[0;34m:\u001b[0m\u001b[0;34m\u001b[0m\u001b[0;34m\u001b[0m\u001b[0m\n\u001b[1;32m      6\u001b[0m     \u001b[0;31m# For parallel:\u001b[0m\u001b[0;34m\u001b[0m\u001b[0;34m\u001b[0m\u001b[0;34m\u001b[0m\u001b[0m\n\u001b[0;32m----> 7\u001b[0;31m     \u001b[0mReq\u001b[0m \u001b[0;34m=\u001b[0m \u001b[0mR1\u001b[0m\u001b[0;34m*\u001b[0m\u001b[0mR2\u001b[0m\u001b[0;34m/\u001b[0m\u001b[0;34m(\u001b[0m\u001b[0mR1\u001b[0m \u001b[0;34m+\u001b[0m \u001b[0mR2\u001b[0m\u001b[0;34m)\u001b[0m\u001b[0;34m\u001b[0m\u001b[0;34m\u001b[0m\u001b[0m\n\u001b[0m\u001b[1;32m      8\u001b[0m     \u001b[0;32mreturn\u001b[0m\u001b[0;34m(\u001b[0m\u001b[0mReq\u001b[0m\u001b[0;34m)\u001b[0m\u001b[0;34m\u001b[0m\u001b[0;34m\u001b[0m\u001b[0m\n",
      "\u001b[0;31mZeroDivisionError\u001b[0m: division by zero"
     ]
    }
   ],
   "source": [
    "print( Series(10,20))  # Should print 30\n",
    "print( Parallel(10,20)) # Should print 6.66666\n",
    "print( Parallel(10,0))  # This should print 0\n",
    "print( Parallel(0,0))   # This should give 0, but returns an error."
   ]
  },
  {
   "cell_type": "markdown",
   "metadata": {},
   "source": [
    "### b: Update the code to accept any number of resistors.\n",
    "\n",
    "The simple way is to accept a list, so you would call the function as: `Series([1,2,3])`, but\n",
    "you may also want to use `Series(1,2,3)`. The way to accomplish the latter is to use `Series(*Rs)`. \n",
    "However, a good design would be to permit *both* types of input. To do that, you need to test what it \n",
    "was that you received for argument. The `Rs` variable will always be of *type* 'tuple', but in the second\n",
    "version (`Series(*Rs)`) the tuple with be of length `len(Rs)` larger than 1, and contain numbers, while in the first version (`Series([1,2,3])`) it will be of length 1, and that first element will be a list or a tuple. We thus need an `if` statement to sort out what we got. The safest would be to test `Rs[0]` for the type. If it is a number, then use the `Rs` as the list, if not, use `Rs[0]` as the list. The safest way to test if `Rs[0]` is a number is `isinstance(Rs[0],numbers.Number)`."
   ]
  },
  {
   "cell_type": "code",
   "execution_count": 4,
   "metadata": {},
   "outputs": [],
   "source": [
    "import numbers\n",
    "def Series(*Rs):\n",
    "    if isinstance(Rs[0],numbers.Number):\n",
    "        RR = Rs\n",
    "    else:\n",
    "        RR = Rs[0]\n",
    "    # At this point, RR is the list of numbers either way it was called.\n",
    "    Result = sum(RR) # Just sum all of them for series.\n",
    "    return(Result)\n",
    "\n",
    "def Parallel(*Rs):\n",
    "    if isinstance(Rs[0],numbers.Number):\n",
    "        RR = Rs\n",
    "    else:\n",
    "        RR = Rs[0]\n",
    "    # At this point, RR is the list of numbers either way it was called.\n",
    "    Invs = [1/x for x in RR] # compute the list of inverses.\n",
    "    Result = 1/sum(Invs) # Just sum all of them and return 1/sum\n",
    "    return(Result)"
   ]
  },
  {
   "cell_type": "code",
   "execution_count": 5,
   "metadata": {},
   "outputs": [
    {
     "name": "stdout",
     "output_type": "stream",
     "text": [
      "30\n",
      "6.666666666666666\n",
      "60\n",
      "5.454545454545454\n"
     ]
    },
    {
     "ename": "ZeroDivisionError",
     "evalue": "division by zero",
     "output_type": "error",
     "traceback": [
      "\u001b[0;31m---------------------------------------------------------------------------\u001b[0m",
      "\u001b[0;31mZeroDivisionError\u001b[0m                         Traceback (most recent call last)",
      "\u001b[0;32m<ipython-input-5-b166da56f51a>\u001b[0m in \u001b[0;36m<module>\u001b[0;34m\u001b[0m\n\u001b[1;32m      3\u001b[0m \u001b[0mprint\u001b[0m\u001b[0;34m(\u001b[0m \u001b[0mSeries\u001b[0m\u001b[0;34m(\u001b[0m\u001b[0;36m10\u001b[0m\u001b[0;34m,\u001b[0m\u001b[0;36m20\u001b[0m\u001b[0;34m,\u001b[0m\u001b[0;36m30\u001b[0m\u001b[0;34m)\u001b[0m\u001b[0;34m)\u001b[0m  \u001b[0;31m# Should print 60\u001b[0m\u001b[0;34m\u001b[0m\u001b[0;34m\u001b[0m\u001b[0m\n\u001b[1;32m      4\u001b[0m \u001b[0mprint\u001b[0m\u001b[0;34m(\u001b[0m \u001b[0mParallel\u001b[0m\u001b[0;34m(\u001b[0m\u001b[0;36m10\u001b[0m\u001b[0;34m,\u001b[0m\u001b[0;36m20\u001b[0m\u001b[0;34m,\u001b[0m\u001b[0;36m30\u001b[0m\u001b[0;34m)\u001b[0m\u001b[0;34m)\u001b[0m \u001b[0;31m# Should print 5.454545...\u001b[0m\u001b[0;34m\u001b[0m\u001b[0;34m\u001b[0m\u001b[0m\n\u001b[0;32m----> 5\u001b[0;31m \u001b[0mprint\u001b[0m\u001b[0;34m(\u001b[0m \u001b[0mParallel\u001b[0m\u001b[0;34m(\u001b[0m\u001b[0;36m10\u001b[0m\u001b[0;34m,\u001b[0m\u001b[0;36m0\u001b[0m\u001b[0;34m)\u001b[0m\u001b[0;34m)\u001b[0m \u001b[0;31m# Should print 0, but gives an error!\u001b[0m\u001b[0;34m\u001b[0m\u001b[0;34m\u001b[0m\u001b[0m\n\u001b[0m",
      "\u001b[0;32m<ipython-input-4-7b6d097523f0>\u001b[0m in \u001b[0;36mParallel\u001b[0;34m(*Rs)\u001b[0m\n\u001b[1;32m     15\u001b[0m         \u001b[0mRR\u001b[0m \u001b[0;34m=\u001b[0m \u001b[0mRs\u001b[0m\u001b[0;34m[\u001b[0m\u001b[0;36m0\u001b[0m\u001b[0;34m]\u001b[0m\u001b[0;34m\u001b[0m\u001b[0;34m\u001b[0m\u001b[0m\n\u001b[1;32m     16\u001b[0m     \u001b[0;31m# At this point, RR is the list of numbers either way it was called.\u001b[0m\u001b[0;34m\u001b[0m\u001b[0;34m\u001b[0m\u001b[0;34m\u001b[0m\u001b[0m\n\u001b[0;32m---> 17\u001b[0;31m     \u001b[0mInvs\u001b[0m \u001b[0;34m=\u001b[0m \u001b[0;34m[\u001b[0m\u001b[0;36m1\u001b[0m\u001b[0;34m/\u001b[0m\u001b[0mx\u001b[0m \u001b[0;32mfor\u001b[0m \u001b[0mx\u001b[0m \u001b[0;32min\u001b[0m \u001b[0mRR\u001b[0m\u001b[0;34m]\u001b[0m \u001b[0;31m# compute the list of inverses.\u001b[0m\u001b[0;34m\u001b[0m\u001b[0;34m\u001b[0m\u001b[0m\n\u001b[0m\u001b[1;32m     18\u001b[0m     \u001b[0mResult\u001b[0m \u001b[0;34m=\u001b[0m \u001b[0;36m1\u001b[0m\u001b[0;34m/\u001b[0m\u001b[0msum\u001b[0m\u001b[0;34m(\u001b[0m\u001b[0mInvs\u001b[0m\u001b[0;34m)\u001b[0m \u001b[0;31m# Just sum all of them and return 1/sum\u001b[0m\u001b[0;34m\u001b[0m\u001b[0;34m\u001b[0m\u001b[0m\n\u001b[1;32m     19\u001b[0m     \u001b[0;32mreturn\u001b[0m\u001b[0;34m(\u001b[0m\u001b[0mResult\u001b[0m\u001b[0;34m)\u001b[0m\u001b[0;34m\u001b[0m\u001b[0;34m\u001b[0m\u001b[0m\n",
      "\u001b[0;32m<ipython-input-4-7b6d097523f0>\u001b[0m in \u001b[0;36m<listcomp>\u001b[0;34m(.0)\u001b[0m\n\u001b[1;32m     15\u001b[0m         \u001b[0mRR\u001b[0m \u001b[0;34m=\u001b[0m \u001b[0mRs\u001b[0m\u001b[0;34m[\u001b[0m\u001b[0;36m0\u001b[0m\u001b[0;34m]\u001b[0m\u001b[0;34m\u001b[0m\u001b[0;34m\u001b[0m\u001b[0m\n\u001b[1;32m     16\u001b[0m     \u001b[0;31m# At this point, RR is the list of numbers either way it was called.\u001b[0m\u001b[0;34m\u001b[0m\u001b[0;34m\u001b[0m\u001b[0;34m\u001b[0m\u001b[0m\n\u001b[0;32m---> 17\u001b[0;31m     \u001b[0mInvs\u001b[0m \u001b[0;34m=\u001b[0m \u001b[0;34m[\u001b[0m\u001b[0;36m1\u001b[0m\u001b[0;34m/\u001b[0m\u001b[0mx\u001b[0m \u001b[0;32mfor\u001b[0m \u001b[0mx\u001b[0m \u001b[0;32min\u001b[0m \u001b[0mRR\u001b[0m\u001b[0;34m]\u001b[0m \u001b[0;31m# compute the list of inverses.\u001b[0m\u001b[0;34m\u001b[0m\u001b[0;34m\u001b[0m\u001b[0m\n\u001b[0m\u001b[1;32m     18\u001b[0m     \u001b[0mResult\u001b[0m \u001b[0;34m=\u001b[0m \u001b[0;36m1\u001b[0m\u001b[0;34m/\u001b[0m\u001b[0msum\u001b[0m\u001b[0;34m(\u001b[0m\u001b[0mInvs\u001b[0m\u001b[0;34m)\u001b[0m \u001b[0;31m# Just sum all of them and return 1/sum\u001b[0m\u001b[0;34m\u001b[0m\u001b[0;34m\u001b[0m\u001b[0m\n\u001b[1;32m     19\u001b[0m     \u001b[0;32mreturn\u001b[0m\u001b[0;34m(\u001b[0m\u001b[0mResult\u001b[0m\u001b[0;34m)\u001b[0m\u001b[0;34m\u001b[0m\u001b[0;34m\u001b[0m\u001b[0m\n",
      "\u001b[0;31mZeroDivisionError\u001b[0m: division by zero"
     ]
    }
   ],
   "source": [
    "print( Series(10,20))  # Should print 30\n",
    "print( Parallel(10,20)) # Should print 6.66666...\n",
    "print( Series(10,20,30))  # Should print 60\n",
    "print( Parallel(10,20,30)) # Should print 5.454545...\n",
    "print( Parallel(10,0)) # Should print 0, but gives an error!"
   ]
  },
  {
   "cell_type": "markdown",
   "metadata": {},
   "source": [
    "We get a division by zero if one of the values is zero, but zero is a perfectly fine input for a resistor. We need to treat this case special. Note that before the result was OK only if one of the two was zero, but not both. We didn't test that. Here is the improved version:"
   ]
  },
  {
   "cell_type": "code",
   "execution_count": 6,
   "metadata": {},
   "outputs": [],
   "source": [
    "def Parallel(*Rs):\n",
    "    if isinstance(Rs[0],numbers.Number):\n",
    "        RR = Rs\n",
    "    else:\n",
    "        RR = Rs[0]\n",
    "    # At this point, RR is the list of numbers either way it was called.\n",
    "    if 0 in RR: return(0)\n",
    "    Invs = [1/x for x in RR] # compute the list of inverses.\n",
    "    Result = 1/sum(Invs) # Just sum all of them and return 1/sum\n",
    "    return(Result)"
   ]
  },
  {
   "cell_type": "code",
   "execution_count": 7,
   "metadata": {},
   "outputs": [
    {
     "name": "stdout",
     "output_type": "stream",
     "text": [
      "30\n",
      "6.666666666666666\n",
      "60\n",
      "5.454545454545454\n",
      "0\n",
      "0\n"
     ]
    }
   ],
   "source": [
    "print( Series(10,20))  # Should print 30\n",
    "print( Parallel(10,20)) # Should print 6.66666...\n",
    "print( Series(10,20,30))  # Should print 60\n",
    "print( Parallel(10,20,30)) # Should print 5.454545...\n",
    "print( Parallel(10,0)) # Should print 0, and now it works!\n",
    "print( Parallel(0,0))  # This one too! "
   ]
  },
  {
   "cell_type": "markdown",
   "metadata": {},
   "source": [
    "### c: Write a function for a resistor divider\n",
    "\n",
    "In this case, we know the 3 input arguments: Vin, R1 , R2, so no fancy testing is needed. We can simply use the formula from the book, or from lecture:\n",
    "$$\n",
    "V_{out} = V_{in} \\frac{R_2}{R_1 + R_2}\n",
    "$$\n",
    "Note that this is the voltage across $R_2$, which is usually the \"bottom\" one in the divider. The function is pretty simple."
   ]
  },
  {
   "cell_type": "code",
   "execution_count": 8,
   "metadata": {},
   "outputs": [],
   "source": [
    "def Divider(Vin,R1,R2):\n",
    "    Vout = Vin *R2/(R1+R2)\n",
    "    return(Vout)"
   ]
  },
  {
   "cell_type": "code",
   "execution_count": 9,
   "metadata": {},
   "outputs": [
    {
     "name": "stdout",
     "output_type": "stream",
     "text": [
      "3.0\n",
      "6.0\n",
      "0.0\n",
      "9.0\n"
     ]
    }
   ],
   "source": [
    "print(Divider(9,20000,10000))  # Should be 3\n",
    "print(Divider(9,10000,20000))  # Should be 6\n",
    "print(Divider(9,10000,0))      # Should be 0\n",
    "print(Divider(9,0,10000))      # Should be 9"
   ]
  },
  {
   "cell_type": "markdown",
   "metadata": {},
   "source": [
    "You could now build on these functions for making it easier for you to calculate values when you are working on circuits. \n",
    "\n",
    "Note that this solution does not check if your divider goes outside of the permitted power load for the resistors. To see a solution that does this, look at the one below."
   ]
  },
  {
   "cell_type": "markdown",
   "metadata": {},
   "source": [
    "## Advanced: Object Oriented Programming\n",
    "\n",
    "In this style of programming, you create objects that behave in the manner you expect them to. Then you can use these objects to do calculations. It really isn't all that difficult, so \"advanced\" here is relative. You should be able to understand what this code does.\n",
    "\n",
    "### a: A basic Resistor class\n",
    "\n",
    "We create a new Python object for Resistor. The object needs an initializer, `__init__`, which sets the value when create the object. We need to override the operators \"+\", `__add__`, for series, and \"*\", `__mul__`, for parallel. We want to be able to print the object, so we need `__str__`.\n",
    "\n",
    "The simple version is below:"
   ]
  },
  {
   "cell_type": "code",
   "execution_count": 10,
   "metadata": {},
   "outputs": [],
   "source": [
    "class Resistor():\n",
    "    \n",
    "    def __init__(self,R=0):   # The required initializer.\n",
    "        self._resistance = R\n",
    "    \n",
    "    def __add__(self,other):\n",
    "        return( Resistor(self._resistance + other._resistance))\n",
    "    \n",
    "    def __mul__(self,other):\n",
    "        if self._resistance == 0 or other._resistance == 0:\n",
    "            return(Resistor(0))\n",
    "        else:\n",
    "            return( Resistor(self._resistance*other._resistance/(self._resistance + other._resistance )))\n",
    "               \n",
    "    def __str__(self):\n",
    "        return( str(self._resistance)+\"Ω\")"
   ]
  },
  {
   "cell_type": "code",
   "execution_count": 11,
   "metadata": {},
   "outputs": [
    {
     "name": "stdout",
     "output_type": "stream",
     "text": [
      "30.0Ω\n",
      "6.666666666666667Ω\n",
      "60.0Ω\n",
      "5.454545454545455Ω\n",
      "0Ω\n",
      "0Ω\n"
     ]
    }
   ],
   "source": [
    "R1= Resistor(10.)\n",
    "R2= Resistor(20.)\n",
    "R3= Resistor(30.)\n",
    "print(R1+R2)\n",
    "print(R1*R2)\n",
    "print(R1+R2+R3)\n",
    "print(R1*R2*R3)\n",
    "print(Resistor(0)*R1)\n",
    "print(Resistor(0)*Resistor(0))"
   ]
  },
  {
   "cell_type": "markdown",
   "metadata": {},
   "source": [
    "So, it works, but I would like a bit more elegance, and also I can forsee the need to want to change the value of a resistor, which in this implementation is not really allowed (the `_resistance` is marked as \"private\").\n",
    "We can do this by turning the resistance into a *property*, which I want to call R.\n",
    "See more about [properties here.](https://www.datacamp.com/community/tutorials/property-getters-setters). Another nice explantion [about properties here.](https://www.python-course.eu/python3_properties.php)"
   ]
  },
  {
   "cell_type": "code",
   "execution_count": 12,
   "metadata": {},
   "outputs": [],
   "source": [
    "class Resistor():\n",
    "       \n",
    "    def __init__(self,R=0):   # The required initializer.\n",
    "        self.R = R\n",
    "    \n",
    "    def __add__(self,other):\n",
    "        return( Resistor(self.R + other.R))\n",
    "    \n",
    "    def __mul__(self,other):\n",
    "        if self.R == 0 or other.R == 0:\n",
    "            return(Resistor(0))\n",
    "        else:\n",
    "            return( Resistor(self.R*other.R/(self.R + other.R )))\n",
    "               \n",
    "    def __str__(self):\n",
    "        return( str(self.R)+\"Ω\")\n",
    "    \n",
    "    @property \n",
    "    def R(self):\n",
    "        return(self._resistance)\n",
    "    \n",
    "    @R.setter\n",
    "    def R(self,Rnew):\n",
    "        if Rnew>= 0:\n",
    "            self._resistance=Rnew\n",
    "        else:\n",
    "            self._resistance=0"
   ]
  },
  {
   "cell_type": "code",
   "execution_count": 13,
   "metadata": {},
   "outputs": [
    {
     "name": "stdout",
     "output_type": "stream",
     "text": [
      "30.0Ω\n",
      "6.666666666666667Ω\n",
      "60.0Ω\n",
      "5.454545454545455Ω\n",
      "0Ω\n",
      "0Ω\n"
     ]
    }
   ],
   "source": [
    "R1= Resistor(10.)\n",
    "R2= Resistor(20.)\n",
    "R3= Resistor(30.)\n",
    "print(R1+R2)\n",
    "print(R1*R2)\n",
    "print(R1+R2+R3)\n",
    "print(R1*R2*R3)\n",
    "print(Resistor(0)*R1)\n",
    "print(Resistor(0)*Resistor(0))"
   ]
  },
  {
   "cell_type": "markdown",
   "metadata": {},
   "source": [
    "OK, that works better, but I am *still* not quite happy with it yet. We also want to be able to do $R\\cdot 2$ or $2\\cdot R$, i.e. multiply the value of the resistor by a number, which is useful for formulas. To do this we need to check the type, and we need to implement `__rmul__` for that second situation.\n",
    "\n",
    "We will also encounter situations where you *divide* resistor values. The result should be a number, not a resistor. We implement this with `__truediv__`, which in Python3 is used for the \"/\" operation. (Note that in Python2 you would use `__div__`.) We should also implement the `__floordiv__` operator, which corresponds to \"//\". Again, we want to be careful to treat dividing by a number different from dividing by a Resistor. We would also want to be able to divide a number by a Resistor, with requires implementing `__rtruediv__` and `__rfloordiv__`, similar to `__rmult__`. If (when?) you write a complete electronics package, you would want to do things like divide a voltage (V) by a resistor, which you can do when you have a class for voltage, and one for current. In such a more complete package you can then also keep proper track of the units.\n",
    "\n",
    "With divide, we again need to worry about divide by zero. In this case, the result shold be infinity, which you can get from \n",
    "\n",
    "The better class is then:"
   ]
  },
  {
   "cell_type": "code",
   "execution_count": 14,
   "metadata": {},
   "outputs": [],
   "source": [
    "import numbers\n",
    "import math\n",
    "class Resistor():\n",
    "    \n",
    "    def __init__(self,R=0):   # The required initializer.\n",
    "        self.R = R\n",
    "    \n",
    "    def __add__(self,other):\n",
    "        return( Resistor(self.R + other.R))\n",
    "    \n",
    "    def __mul__(self,other):\n",
    "        if isinstance(other,numbers.Number):\n",
    "            return(Resistor(self.R * other))\n",
    "        if self.R == 0 or other.R == 0:\n",
    "            return(Resistor(0))\n",
    "        else:\n",
    "            return( Resistor(self.R*other.R/(self.R + other.R )))\n",
    "        \n",
    "    def __rmul__(self,other):  # Note, __rmul__ is called for 2*R situation.\n",
    "        return(Resistor(self.R * other))\n",
    "        \n",
    "    def __truediv__(self,other):\n",
    "        if isinstance(other,numbers.Number):\n",
    "            return(Resistor(self.R /other))   # Returns a Resistor.\n",
    "        if other.R == 0:\n",
    "            return(Resistor(math.inf)) \n",
    "        else:\n",
    "            return( self.R/other.R) # Returns a number!\n",
    "\n",
    "    def __floordiv__(self,other):\n",
    "        if isinstance(other,numbers.Number):\n",
    "            return(Resistor(self.R //other))   # Returns a Resistor.\n",
    "        if other._resistance == 0:\n",
    "            return(Resistor(math.inf)) \n",
    "        else:\n",
    "            return( self.R//other.R) # Returns a number!\n",
    "        \n",
    "    def __rtruediv__(self,other):\n",
    "        return( other/self.R) # Returns a number!\n",
    "\n",
    "    def __rfloordiv__(self,other):\n",
    "        return( other//self.R) # Returns a number!\n",
    "\n",
    "        \n",
    "    def __str__(self):\n",
    "        return( str(self.R)+\"Ω\")\n",
    "       \n",
    "    @property \n",
    "    def R(self):\n",
    "        return(self._resistance)\n",
    "    \n",
    "    @R.setter\n",
    "    def R(self,Rnew):\n",
    "        if Rnew>= 0:\n",
    "            self._resistance=Rnew\n",
    "        else:\n",
    "            self._resistance=0"
   ]
  },
  {
   "cell_type": "code",
   "execution_count": 15,
   "metadata": {},
   "outputs": [
    {
     "name": "stdout",
     "output_type": "stream",
     "text": [
      "40Ω\n",
      "40Ω\n",
      "10.0Ω\n",
      "10Ω\n",
      "10.0\n",
      "10\n",
      "2.0\n",
      "2\n",
      "infΩ\n",
      "0.0\n"
     ]
    }
   ],
   "source": [
    "print(Resistor(20)*2)\n",
    "print(2*Resistor(20))\n",
    "print(Resistor(20)/2)   # True division\n",
    "print(Resistor(20)//2)  # Integer division\n",
    "print(200/Resistor(20))   # True division\n",
    "print(200//Resistor(20))  # Integer division\n",
    "print(Resistor(200)/Resistor(100))\n",
    "print(Resistor(200)//Resistor(100))\n",
    "print(Resistor(200)/Resistor(0))\n",
    "print(Resistor(0)/Resistor(200))"
   ]
  },
  {
   "cell_type": "markdown",
   "metadata": {},
   "source": [
    "### b: Improved Resistor class\n",
    "\n",
    "So, our Resistor was nice and useful, but a physical resistor also has a power limit. We want to add this to our resistor class. We will write it so that if the power is not specified, it will use 1/8 Watt power value.\n",
    "\n",
    "We now have to be really careful with the power limits. They do not simply add. So how do we calculate the new power limit?\n",
    "\n",
    "For series, we know the same current will flow through both resistors. The power dissipated in each resistor is given by $P = R*I^2$, so $I_{max} = \\sqrt{P_{max}/R}$. We thus need to calculate the $I_{max}$ for each resistor, and choose the *smaller* of the two. The total power of the combined resistors in series is then $P_{max} = (R_1 + R_2)*I_{max}^2$.   \n",
    "\n",
    "For parallel, we know that the same voltage is across both resistors. The power dissipated in each resistor is then \n",
    "given by: $P = V^2/R$, so $V_{max} = \\sqrt{P_{max}*R}$. We now, like before, need to choose the smallest $V_{max}$. The total maximum power of the combined resistors in parallel is then: $P_{max} = V_{max}^2(1/R_1 + 1/R_2)$.\n",
    "\n",
    "We should add two methods (functions) that return the resistance and the power rating.\n",
    "\n",
    "We add some additional methods (functions) that allow us to quickly compute and check if the power use in the resistor is OK or not. When we know the current through the Resistor, we use `PowerI(I)` and `checkPowerI(I)` and when we know the voltage across the resistor, `PowerV(V)` and `checkPowerV(V)`."
   ]
  },
  {
   "cell_type": "code",
   "execution_count": 22,
   "metadata": {},
   "outputs": [],
   "source": [
    "import numbers\n",
    "import math\n",
    "class Resistor():\n",
    "        \n",
    "    def __init__(self,R=0,P=1./8.):   # The required initializer.\n",
    "        self.R = R\n",
    "        self.Pmax = P\n",
    "    \n",
    "    def __add__(self,other):        # Implement the \"+\" operation.\n",
    "        Value = self.R + other.R\n",
    "        I2_max = min(self.Pmax/self.R,other.Pmax/other.R) # I_max squared.\n",
    "        Power = I2_max*(self.R + other.R)\n",
    "        return( Resistor(Value,Power))\n",
    "    \n",
    "    def __mul__(self,other):                           # Implement the \"*\" operation. We use this for parallel.\n",
    "        if isinstance(other,numbers.Number):           # But if other is a number, then multiply.\n",
    "            return(Resistor(self.R * other,self.Pmax)) # Power rating not modified for numeric multiply.\n",
    "        if self.R == 0 or other.R == 0:\n",
    "            return(Resistor(0,math.inf))               # A zero ohm resistor has infinite power :-)\n",
    "        else:\n",
    "            Value = self.R*other.R/(self.R + other.R)\n",
    "            V2_max = min(self.Pmax*self.R,other.Pmax*other.R) # V_max squared.\n",
    "            Power = V2_max*(1/self.R + 1/other.R)\n",
    "            return( Resistor(Value,Power))             # Return the parallel equivalent resistor\n",
    " \n",
    "    def __or__(self,other):                            # An alternate for \"*\" could be \"|\", but no one uses that.\n",
    "        if isinstance(other,numbers.Number):\n",
    "            return(Resistor(self.R * other,self.Pmax)) # Power rating not modified.\n",
    "        if self.R == 0 or other.R == 0:\n",
    "            return(Resistor(0,math.inf))               # A zero ohm resistor has infinite power :-)\n",
    "        else:\n",
    "            Value = self.R*other.R/(self.R + other.R)\n",
    "            V2_max = min(self.Pmax*self.R,other.Pmax*other.R) # V_max squared.\n",
    "            Power = V2_max*(1/self.R + 1/other.R)\n",
    "            return( Resistor(Value,Power))           # Return the parallel equivalent resistor\n",
    "\n",
    "\n",
    "    def __rmul__(self,other):                        # Note, __rmul__ is called for 2*R situation.\n",
    "        return(Resistor(self.R * other,self.Pmax))      # Then other is always a number, so no need to test.\n",
    "        \n",
    "    def __truediv__(self,other):                     # Implement division with \"/\".\n",
    "        if isinstance(other,numbers.Number):         # If other is a number, then divide the value\n",
    "            return(Resistor(self.R /other,self.Pmax))   # and return a Resistor.\n",
    "        if other.R == 0:                             # If other is zero, you get an open connection = infinity.\n",
    "            return(Resistor(math.inf,self.Pmax)) \n",
    "        else:\n",
    "            return( self.R/other.R)                  # Divide resistors: returns a number! Power info is lost.\n",
    "\n",
    "    def __floordiv__(self,other):                     # Implement integer division \"//\"\n",
    "        if isinstance(other,numbers.Number):          # If other is a number, then divide the value\n",
    "            return(Resistor(self.R //other,self.Pmax))   # Returns a Resistor.\n",
    "        if other.R == 0:                              # If other is zero, you get an open connection = infinity.\n",
    "            return(Resistor(math.inf,self.Pmax)) \n",
    "        else:\n",
    "            return( self.R//other.R)                  # Integer Divide resistors: returns a number! Power info is lost.\n",
    "     \n",
    "    def __rtruediv__(self,other):                     # This is for  2/R so a number on the left.\n",
    "        return( other/self.R) # Returns a number!     # Other is always a number, return a number.\n",
    "\n",
    "    def __rfloordiv__(self,other):                    # This is for 2//R so number on the left.\n",
    "        return( other//self.R) # Returns a number!    # Other is always a number, return a number.\n",
    "\n",
    "    def PowerI(self,I):                               # Calculate the power used for current I.\n",
    "        return(I*I*self.R)\n",
    "    \n",
    "    def checkPowerI(self,I):                          # Check if power rating is sufficient for current I\n",
    "        return( self.PowerI(I)<self.Pmax)\n",
    "\n",
    "    def PowerV(self,V):                               # Calculate the power used if connected to voltage V\n",
    "        return(V*V/self.R)                            \n",
    "    \n",
    "    def checkPowerV(self,V):                          # Check the power rating if connected to voltage V.\n",
    "        return( self.PowerV(V)<self.Pmax)\n",
    "    \n",
    "    def __str__(self):                                # Print a sensible string with the resistance and the power.\n",
    "        return( str(self.R)+\"Ω,\" + str(self.Pmax)+\"W\")\n",
    "    \n",
    "    @property                                         # This makes \"R\" a property of the resistor.\n",
    "    def R(self):\n",
    "        return(self._resistance)\n",
    "    \n",
    "    @R.setter                                         # This allows you to set the property R\n",
    "    def R(self,Rnew):\n",
    "        if Rnew>= 0:                                  # We test to make sure the value makes sense.\n",
    "            self._resistance=Rnew\n",
    "        else:\n",
    "            print(\"Error, you cannot have a negative resistance. (At least not here.)\")\n",
    "            self._resistance=0\n",
    "            \n",
    "    @property                                        # This allows you to set the property Pmax\n",
    "    def Pmax(self):\n",
    "        return(self._power)\n",
    "    \n",
    "    @Pmax.setter\n",
    "    def Pmax(self,P):                                # This allows you to set Pmax.\n",
    "        if P>= 0:\n",
    "            self._power=P\n",
    "        else:\n",
    "            print(\"Error - we cannot have negative power.\")\n",
    "            self._power=0\n",
    "            "
   ]
  },
  {
   "cell_type": "code",
   "execution_count": 23,
   "metadata": {},
   "outputs": [
    {
     "name": "stdout",
     "output_type": "stream",
     "text": [
      "4000Ω,0.5W\n",
      "666.6666666666666Ω,0.1875W\n"
     ]
    }
   ],
   "source": [
    "R1 = Resistor(1000,1/8)\n",
    "R2 = Resistor(2000,1/8)\n",
    "print(R1+R1+R1+R1)\n",
    "print(R1 | R2)"
   ]
  },
  {
   "cell_type": "markdown",
   "metadata": {},
   "source": [
    "### c: Voltage divider function, using the Resistor class.\n",
    "\n",
    "So now we can write a voltage divider function that can use the resistor class. The problem did not specify it, but because we now have resistors with a power rating, we can check to make sure our voltage divider does not fry either of the resistors.\n",
    "\n",
    "Note how the use of our Resistor class makes it easier to \n",
    "\n"
   ]
  },
  {
   "cell_type": "code",
   "execution_count": 24,
   "metadata": {},
   "outputs": [],
   "source": [
    "def Divider(Vin,R1,R2):\n",
    "    if isinstance(R1,Resistor) and isinstance(R2,Resistor):  # Both are R, so we can check power.\n",
    "        Vout = Vin *R2/(R1+R2)\n",
    "        I = Vin/(R1+R2)\n",
    "        if not R1.checkPowerI(I) or not R2.checkPowerI(I):\n",
    "            print(\"Error, power rating exceeded!\")\n",
    "            return(0)\n",
    "        else:\n",
    "            return(Vout)\n",
    "    else:\n",
    "        Vout = Vin *R2/(R1+R2)  # Assume both are numbers then. You get an error for mixed input!"
   ]
  },
  {
   "cell_type": "code",
   "execution_count": 25,
   "metadata": {},
   "outputs": [
    {
     "name": "stdout",
     "output_type": "stream",
     "text": [
      "5.0 V\n",
      "Error, power rating exceeded!\n",
      "0 V\n"
     ]
    }
   ],
   "source": [
    "print(Divider(10,Resistor(100,1),Resistor(100,1)),\"V\")\n",
    "print(Divider(10,Resistor(10,1),Resistor(20,1)),\"V\")"
   ]
  },
  {
   "cell_type": "code",
   "execution_count": 35,
   "metadata": {},
   "outputs": [
    {
     "name": "stdout",
     "output_type": "stream",
     "text": [
      "30Ω,3.375W 3.3333333333333335 W\n",
      "6.666666666666667 V\n"
     ]
    }
   ],
   "source": [
    "R1 = Resistor(10)\n",
    "R2 = Resistor(20)\n",
    "R1.Pmax = 2.25\n",
    "R2.Pmax = 2.25\n",
    "print(R1+R2,(R1+R2).PowerV(10),\"W\")\n",
    "print(Divider(10,R1,R2),\"V\")"
   ]
  }
 ],
 "metadata": {
  "kernelspec": {
   "display_name": "Python 3",
   "language": "python",
   "name": "python3"
  },
  "language_info": {
   "codemirror_mode": {
    "name": "ipython",
    "version": 3
   },
   "file_extension": ".py",
   "mimetype": "text/x-python",
   "name": "python",
   "nbconvert_exporter": "python",
   "pygments_lexer": "ipython3",
   "version": "3.7.2"
  }
 },
 "nbformat": 4,
 "nbformat_minor": 2
}
