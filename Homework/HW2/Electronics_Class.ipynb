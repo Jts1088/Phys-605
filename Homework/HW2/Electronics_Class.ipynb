{
 "cells": [
  {
   "cell_type": "markdown",
   "metadata": {},
   "source": [
    "# The 605 Electronics Class in Python\n",
    "\n",
    "This is a quick example on use the code concept of a \"class\". All object oriented programming languages (C++, Java, Python,... ) have the concept of a class. A class is an \"object\" in the programming language which contains data and has a number of methods, or functions, that allow you to manipulate (\"do things with\") the data. A class is a good way to extend the capabilities of a language.\n",
    "\n",
    "To see how this class is implemented, and to make changes, look in the file Electronics.py"
   ]
  },
  {
   "cell_type": "code",
   "execution_count": 1,
   "metadata": {},
   "outputs": [],
   "source": [
    "import math\n",
    "from Electronics import Resistor"
   ]
  },
  {
   "cell_type": "code",
   "execution_count": 14,
   "metadata": {},
   "outputs": [
    {
     "name": "stdout",
     "output_type": "stream",
     "text": [
      "1000.00Ω, 0.12W\n"
     ]
    }
   ],
   "source": [
    "R = Resistor(1000,1./8.)          # Define a resistor of 1kOhm\n",
    "print(R)"
   ]
  }
 ],
 "metadata": {
  "kernelspec": {
   "display_name": "Python 3",
   "language": "python",
   "name": "python3"
  },
  "language_info": {
   "codemirror_mode": {
    "name": "ipython",
    "version": 3
   },
   "file_extension": ".py",
   "mimetype": "text/x-python",
   "name": "python",
   "nbconvert_exporter": "python",
   "pygments_lexer": "ipython3",
   "version": "3.8.7"
  }
 },
 "nbformat": 4,
 "nbformat_minor": 4
}
